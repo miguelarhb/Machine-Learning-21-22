{
 "cells": [
  {
   "cell_type": "markdown",
   "metadata": {},
   "source": [
    "# AutoML Simone"
   ]
  },
  {
   "cell_type": "code",
   "execution_count": null,
   "metadata": {
    "execution": {
     "iopub.execute_input": "2021-11-02T20:16:58.259385Z",
     "iopub.status.busy": "2021-11-02T20:16:58.258711Z",
     "iopub.status.idle": "2021-11-02T20:16:58.330434Z",
     "shell.execute_reply": "2021-11-02T20:16:58.329609Z",
     "shell.execute_reply.started": "2021-11-02T20:16:58.259344Z"
    }
   },
   "outputs": [],
   "source": [
    "# Import and init h2o lib. Running on java\n",
    "import h2o\n",
    "from h2o.automl import H2OAutoML\n",
    "h2o.init() #max_mem_size = \"2G\""
   ]
  },
  {
   "cell_type": "code",
   "execution_count": null,
   "metadata": {
    "execution": {
     "iopub.execute_input": "2021-11-02T19:25:41.824726Z",
     "iopub.status.busy": "2021-11-02T19:25:41.823821Z",
     "iopub.status.idle": "2021-11-02T19:25:48.787984Z",
     "shell.execute_reply": "2021-11-02T19:25:48.786963Z",
     "shell.execute_reply.started": "2021-11-02T19:25:41.824668Z"
    }
   },
   "outputs": [],
   "source": [
    "# Reading csv to h2o dataframe file\n",
    "df = h2o.import_file('../input/beer-sales/train_preprocessed.csv')\n",
    "df_test = h2o.import_file('../input/beer-sales/test_preprocessed.csv')"
   ]
  },
  {
   "cell_type": "code",
   "execution_count": null,
   "metadata": {
    "execution": {
     "iopub.execute_input": "2021-11-02T19:26:18.443555Z",
     "iopub.status.busy": "2021-11-02T19:26:18.443235Z",
     "iopub.status.idle": "2021-11-02T19:26:18.455655Z",
     "shell.execute_reply": "2021-11-02T19:26:18.454982Z",
     "shell.execute_reply.started": "2021-11-02T19:26:18.443521Z"
    }
   },
   "outputs": [],
   "source": [
    "# Setting features as factor\n",
    "df= df.drop(0, axis=1)\n",
    "df['Store'] = df['Store'].asfactor()\n",
    "df['SKU'] = df['SKU'].asfactor()\n",
    "df['Segment'] = df['Segment'].asfactor()\n",
    "df['Pack'] = df['Pack'].asfactor()\n",
    "df['Product'] = df['Product'].asfactor()\n",
    "df['Brand'] = df['Brand'].asfactor()\n",
    "df['Season'] = df['Season'].asfactor()\n",
    "df['ts_promo'] = df['ts_promo'].asfactor()\n",
    "df['store_promo'] = df['store_promo'].asfactor()\n",
    "df['segment_promo'] = df['segment_promo'].asfactor()\n",
    "df['brand_promo'] = df['brand_promo'].asfactor()\n",
    "df['sku_promo'] = df['sku_promo'].asfactor()\n",
    "df['dom_promo'] = df['dom_promo'].asfactor()\n",
    "df['dow_promo'] = df['dow_promo'].asfactor()\n",
    "df['Holiday'] = df['Holiday'].asfactor()\n"
   ]
  },
  {
   "cell_type": "code",
   "execution_count": null,
   "metadata": {
    "execution": {
     "iopub.execute_input": "2021-11-02T19:26:58.998787Z",
     "iopub.status.busy": "2021-11-02T19:26:58.99845Z",
     "iopub.status.idle": "2021-11-02T19:26:59.011766Z",
     "shell.execute_reply": "2021-11-02T19:26:59.010711Z",
     "shell.execute_reply.started": "2021-11-02T19:26:58.998749Z"
    }
   },
   "outputs": [],
   "source": [
    "df_test= df_test.drop(1, axis=1)\n",
    "df_test['Store'] = df_test['Store'].asfactor()\n",
    "df_test['SKU'] = df_test['SKU'].asfactor()\n",
    "df_test['Segment'] = df_test['Segment'].asfactor()\n",
    "df_test['Pack'] = df_test['Pack'].asfactor()\n",
    "df_test['Product'] = df_test['Product'].asfactor()\n",
    "df_test['Brand'] = df_test['Brand'].asfactor()\n",
    "df_test['Season'] = df_test['Season'].asfactor()\n",
    "df_test['ts_promo'] = df_test['ts_promo'].asfactor()\n",
    "df_test['store_promo'] = df_test['store_promo'].asfactor()\n",
    "df_test['segment_promo'] = df_test['segment_promo'].asfactor()\n",
    "df_test['brand_promo'] = df_test['brand_promo'].asfactor()\n",
    "df_test['sku_promo'] = df_test['sku_promo'].asfactor()\n",
    "df_test['dom_promo'] = df_test['dom_promo'].asfactor()\n",
    "df_test['dow_promo'] = df_test['dow_promo'].asfactor()\n",
    "df_test['Holiday'] = df_test['Holiday'].asfactor()"
   ]
  },
  {
   "cell_type": "code",
   "execution_count": null,
   "metadata": {
    "execution": {
     "iopub.execute_input": "2021-11-02T16:29:04.427163Z",
     "iopub.status.busy": "2021-11-02T16:29:04.426774Z",
     "iopub.status.idle": "2021-11-02T16:29:04.434341Z",
     "shell.execute_reply": "2021-11-02T16:29:04.433163Z",
     "shell.execute_reply.started": "2021-11-02T16:29:04.427117Z"
    }
   },
   "outputs": [],
   "source": [
    "# Removing labels from train set\n",
    "y = \"Sales\"\n",
    "x = df.columns\n",
    "x.remove(y)"
   ]
  },
  {
   "cell_type": "code",
   "execution_count": null,
   "metadata": {
    "execution": {
     "iopub.execute_input": "2021-11-02T16:29:07.533193Z",
     "iopub.status.busy": "2021-11-02T16:29:07.532667Z",
     "iopub.status.idle": "2021-11-02T16:29:37.057262Z",
     "shell.execute_reply": "2021-11-02T16:29:37.056186Z",
     "shell.execute_reply.started": "2021-11-02T16:29:07.533144Z"
    }
   },
   "outputs": [],
   "source": [
    "# Running fit/training on train set with cross validation n=5\n",
    "aml = H2OAutoML(max_runtime_secs = 28800, seed = 1, exclude_algos = [\"DRF\"])\n",
    "aml.train(x = x, y = y, training_frame = df)"
   ]
  },
  {
   "cell_type": "code",
   "execution_count": null,
   "metadata": {
    "execution": {
     "iopub.execute_input": "2021-11-02T16:29:45.232357Z",
     "iopub.status.busy": "2021-11-02T16:29:45.231998Z",
     "iopub.status.idle": "2021-11-02T16:29:45.237247Z",
     "shell.execute_reply": "2021-11-02T16:29:45.236274Z",
     "shell.execute_reply.started": "2021-11-02T16:29:45.232322Z"
    }
   },
   "outputs": [],
   "source": [
    "lb = aml.leaderboard"
   ]
  },
  {
   "cell_type": "code",
   "execution_count": null,
   "metadata": {
    "execution": {
     "iopub.execute_input": "2021-11-02T16:29:48.060317Z",
     "iopub.status.busy": "2021-11-02T16:29:48.059643Z",
     "iopub.status.idle": "2021-11-02T16:29:48.126146Z",
     "shell.execute_reply": "2021-11-02T16:29:48.125145Z",
     "shell.execute_reply.started": "2021-11-02T16:29:48.060267Z"
    }
   },
   "outputs": [],
   "source": [
    "# Showing best perforimg models\n",
    "lb.head()"
   ]
  },
  {
   "cell_type": "code",
   "execution_count": null,
   "metadata": {
    "execution": {
     "iopub.execute_input": "2021-11-02T19:25:41.725077Z",
     "iopub.status.busy": "2021-11-02T19:25:41.724416Z",
     "iopub.status.idle": "2021-11-02T19:25:41.732749Z",
     "shell.execute_reply": "2021-11-02T19:25:41.731991Z",
     "shell.execute_reply.started": "2021-11-02T19:25:41.72503Z"
    }
   },
   "outputs": [],
   "source": [
    "print(type(df_test))\n",
    "df_test_noid= df_test.drop(0, axis=1)"
   ]
  },
  {
   "cell_type": "code",
   "execution_count": null,
   "metadata": {
    "execution": {
     "iopub.execute_input": "2021-11-02T16:29:55.276842Z",
     "iopub.status.busy": "2021-11-02T16:29:55.276309Z",
     "iopub.status.idle": "2021-11-02T16:29:56.986905Z",
     "shell.execute_reply": "2021-11-02T16:29:56.985969Z",
     "shell.execute_reply.started": "2021-11-02T16:29:55.276792Z"
    }
   },
   "outputs": [],
   "source": [
    "preds = aml.predict(df_test_noid)"
   ]
  },
  {
   "cell_type": "code",
   "execution_count": null,
   "metadata": {
    "execution": {
     "iopub.execute_input": "2021-11-02T16:30:10.939341Z",
     "iopub.status.busy": "2021-11-02T16:30:10.938962Z",
     "iopub.status.idle": "2021-11-02T16:30:10.98786Z",
     "shell.execute_reply": "2021-11-02T16:30:10.987012Z",
     "shell.execute_reply.started": "2021-11-02T16:30:10.939298Z"
    }
   },
   "outputs": [],
   "source": [
    "preds = h2o.as_list(preds)"
   ]
  },
  {
   "cell_type": "code",
   "execution_count": null,
   "metadata": {
    "execution": {
     "iopub.execute_input": "2021-11-02T16:39:45.979823Z",
     "iopub.status.busy": "2021-11-02T16:39:45.979229Z",
     "iopub.status.idle": "2021-11-02T16:39:47.550131Z",
     "shell.execute_reply": "2021-11-02T16:39:47.549372Z",
     "shell.execute_reply.started": "2021-11-02T16:39:45.979772Z"
    },
    "pycharm": {
     "is_executing": true,
     "name": "#%%\n"
    }
   },
   "outputs": [],
   "source": [
    "# Convert result to desired format\n",
    "\n",
    "import pandas as pd\n",
    "submission = pd.DataFrame()\n",
    "submission[\"id\"] = pd.read_csv(\"../input/beer-sales/test_preprocessed.csv\",dtype={'Store': object,'ts_promo': object,'store_promo': object,'dom_promo': object,'dow_promo': object})[\"id\"]\n",
    "submission[\"Sales\"] = preds\n",
    "submission = submission.sort_values(by=['id'])\n",
    "submission.to_csv(\"sub.csv\", index=False)"
   ]
  },
  {
   "cell_type": "code",
   "execution_count": null,
   "metadata": {},
   "outputs": [],
   "source": []
  }
 ],
 "metadata": {
  "kernelspec": {
   "display_name": "Python 3",
   "language": "python",
   "name": "python3"
  },
  "language_info": {
   "codemirror_mode": {
    "name": "ipython",
    "version": 3
   },
   "file_extension": ".py",
   "mimetype": "text/x-python",
   "name": "python",
   "nbconvert_exporter": "python",
   "pygments_lexer": "ipython3",
   "version": "3.9.7"
  }
 },
 "nbformat": 4,
 "nbformat_minor": 4
}
