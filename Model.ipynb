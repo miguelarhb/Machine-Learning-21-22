{
 "cells": [
  {
   "cell_type": "markdown",
   "id": "e15d1f6c-2852-41c8-8d1b-c30e49b3ce70",
   "metadata": {},
   "source": [
    "# LGBM Catboost Laura"
   ]
  },
  {
   "cell_type": "code",
   "execution_count": null,
   "id": "fdd30114-5f9e-4041-b6d6-9471c9c1d30e",
   "metadata": {},
   "outputs": [],
   "source": [
    "import os\n",
    "import datetime\n",
    "\n",
    "import IPython\n",
    "import IPython.display\n",
    "import matplotlib as mpl\n",
    "import matplotlib.pyplot as plt\n",
    "import numpy as np\n",
    "import pandas as pd\n",
    "import seaborn as sns\n",
    "from matplotlib import pyplot\n",
    "from datetime import datetime\n",
    "from sklearn.preprocessing import OrdinalEncoder\n",
    "from sklearn.model_selection import train_test_split\n",
    "from sklearn import metrics\n",
    "import lightgbm as lgb\n",
    "from lightgbm import LGBMRegressor\n",
    "#from statsmodels.graphics.tsaplots import plot_acf\n",
    "from datetime import date\n",
    "import seaborn as sns\n",
    "import string\n",
    "from sklearn.preprocessing import OneHotEncoder, LabelEncoder, StandardScaler\n",
    "from catboost import CatBoostRegressor\n",
    "plt.style.use('ggplot')\n",
    "import warnings\n",
    "warnings.filterwarnings('ignore')\n",
    "%matplotlib inline"
   ]
  },
  {
   "cell_type": "code",
   "execution_count": null,
   "id": "1ab6156d-d4b1-421d-9954-ca134a1f34db",
   "metadata": {},
   "outputs": [],
   "source": [
    "beer_train = pd.read_csv(\"train_preprocessed.csv\",dtype={'Store': object,'ts_promo': object,'store_promo': object,'dom_promo': object,'dow_promo': object})\n",
    "beer_train['Date'] = pd.to_datetime(beer_train['Date'])"
   ]
  },
  {
   "cell_type": "code",
   "execution_count": null,
   "id": "2cbaaa38-48ac-4fba-b1f1-4fafd0f754ce",
   "metadata": {},
   "outputs": [],
   "source": [
    "beer_test = pd.read_csv(\"test_preprocessed.csv\",dtype={'Store': object,'ts_promo': object,'store_promo': object,'dom_promo': object,'dow_promo': object})\n",
    "beer_test['Date'] = pd.to_datetime(beer_test['Date'])"
   ]
  },
  {
   "cell_type": "code",
   "execution_count": null,
   "id": "3ba05a82-fab4-484d-bdb8-7b2b5dc38ce9",
   "metadata": {},
   "outputs": [],
   "source": [
    "for c in beer_train.columns:\n",
    "    col_type = beer_train[c].dtype\n",
    "    if col_type == 'object' or col_type.name == 'category':\n",
    "        beer_train[c] = beer_train[c].astype('category')"
   ]
  },
  {
   "cell_type": "code",
   "execution_count": null,
   "id": "8540c872-20f8-41c1-8d76-d67d3e54ed65",
   "metadata": {},
   "outputs": [],
   "source": [
    "for c in beer_test.columns:\n",
    "    col_type = beer_test[c].dtype\n",
    "    if col_type == 'object' or col_type.name == 'category':\n",
    "        beer_test[c] = beer_test[c].astype('category')"
   ]
  },
  {
   "cell_type": "code",
   "execution_count": null,
   "id": "aa9e6b2d-6939-480a-b692-1dba8dccd7b1",
   "metadata": {},
   "outputs": [],
   "source": [
    "print(beer_train['Date'].is_monotonic_increasing)\n",
    "print(beer_test['Date'].is_monotonic_increasing)\n",
    "beer_train = beer_train.sort_values(by=['Date'])\n",
    "beer_test = beer_test.sort_values(by=['Date'])"
   ]
  },
  {
   "cell_type": "code",
   "execution_count": null,
   "id": "245a0827-bdab-4c67-a3b5-fce0c080f83e",
   "metadata": {},
   "outputs": [],
   "source": [
    "# non_numeric_features = ['Store', 'SKU', 'Segment', 'Pack', 'Product', 'Brand','Season',\n",
    "#        'Birthdays', \"New Year's Day\", 'New Year Holiday',\n",
    "#        \"The Prophet's Birthday\", 'Orthodox Christmas Day', 'Old New Year',\n",
    "#        \"Valentine's Day\", 'Defender of the Fatherland Day',\n",
    "#        'Special Operations Forces Day', \"International Women's Day\",\n",
    "#        \"Day off for International Women's Day\", 'March Equinox',\n",
    "#        'Orthodox Easter Day', 'Spring and Labor Day', 'Public Holiday',\n",
    "#        'Victory Day', 'Day off for Victory Day', \"Isra and Mi'raj\",\n",
    "#        'Russia Day', 'Ramadan starts', 'June Solstice', 'Lailat al-Qadr',\n",
    "#        'Eid al-Fitr', 'Day of Knowledge', 'September Equinox', 'Eid al-Adha',\n",
    "#        'Muharram', 'Unity Day', 'December Solstice',\n",
    "#        'New Year Holiday Substitution', 'Day off for Spring and Labor Day',\n",
    "#        'Day off for Russia Day', 'Extra holiday in lieu of Jan. 1',\n",
    "#        'Extra holiday in lieu of Jan. 7', 'Day off for Unity Day', 'Holiday']\n",
    "\n",
    "# for feature in non_numeric_features:        \n",
    "#     beer_train[feature] = LabelEncoder().fit_transform(beer_train[feature])\n",
    "#     beer_train[feature] = LabelEncoder().fit_transform(beer_train[feature])"
   ]
  },
  {
   "cell_type": "code",
   "execution_count": null,
   "id": "c7dd1091-26ac-4096-95eb-a08cb2921c2b",
   "metadata": {},
   "outputs": [],
   "source": [
    "X = beer_train.drop(['Sales','Date'], axis=1)#Date\n",
    "y = beer_train['Sales']"
   ]
  },
  {
   "cell_type": "code",
   "execution_count": null,
   "id": "3693f31e-57ab-4323-9e99-b63361121ec1",
   "metadata": {},
   "outputs": [],
   "source": [
    "var_categ =[]\n",
    "for c in X.columns:\n",
    "    col_type = X[c].dtype\n",
    "    if col_type.name == 'category':\n",
    "        var_categ.append(c)\n",
    "\n",
    "# x_train,x_test,y_train,y_test = train_test_split(X,y,test_size=0.33,random_state=42)"
   ]
  },
  {
   "cell_type": "code",
   "execution_count": null,
   "id": "ef9928a2-a9ce-4f26-8d72-91433008e352",
   "metadata": {},
   "outputs": [],
   "source": [
    "x_train,x_test,y_train,y_test = train_test_split(X,y,test_size=0.33,random_state=42)"
   ]
  },
  {
   "cell_type": "markdown",
   "id": "5722fd6a-c3ae-4e7f-ae6b-a05fae0763cc",
   "metadata": {},
   "source": [
    "# ------------------------------------------------------"
   ]
  },
  {
   "cell_type": "markdown",
   "id": "dc16bdcd-40b7-4493-87c8-788db673ed68",
   "metadata": {},
   "source": [
    "# Keras"
   ]
  },
  {
   "cell_type": "code",
   "execution_count": null,
   "id": "1f161efe-b1e3-407e-aaea-6eafa5ee2291",
   "metadata": {},
   "outputs": [],
   "source": [
    "import keras_tuner as kt\n",
    "import numpy\n",
    "import matplotlib.pyplot as plt\n",
    "import pandas\n",
    "import math\n",
    "from keras.models import Sequential\n",
    "from keras.layers import Dense\n",
    "from keras.layers import LSTM\n",
    "from sklearn.preprocessing import MinMaxScaler\n",
    "from sklearn.metrics import mean_squared_error\n",
    "import math\n",
    "import pandas as pd\n",
    "import tensorflow as tf\n",
    "import matplotlib.pyplot as plt\n",
    "from tensorflow.keras import Model\n",
    "from tensorflow.keras import Sequential\n",
    "from tensorflow.keras.optimizers import Adam\n",
    "from sklearn.preprocessing import StandardScaler\n",
    "from tensorflow.keras.layers import Dense, Dropout\n",
    "from sklearn.model_selection import train_test_split\n",
    "from tensorflow.keras.losses import MeanSquaredLogarithmicError"
   ]
  },
  {
   "cell_type": "code",
   "execution_count": null,
   "id": "6ddf9be3-67fa-45d9-884c-ea2656134279",
   "metadata": {},
   "outputs": [],
   "source": [
    "def model_builder(hp):\n",
    "    '''\n",
    "    Args:\n",
    "    hp - Keras tuner object\n",
    "    '''\n",
    "    # Initialize the Sequential API and start stacking the layers\n",
    "    model = keras.Sequential()\n",
    "    model.add(keras.layers.Flatten(input_shape=(28, 28)))\n",
    "    # Tune the number of units in the first Dense layer\n",
    "    # Choose an optimal value between 32-512\n",
    "    hp_units = hp.Int('units', min_value=32, max_value=512, step=32)\n",
    "    model.add(keras.layers.Dense(units=hp_units, activation='relu', name='dense_1'))\n",
    "    # Add next layers\n",
    "    model.add(keras.layers.Dropout(0.2))\n",
    "    model.add(keras.layers.Dense(10, activation='softmax'))\n",
    "    # Tune the learning rate for the optimizer\n",
    "    # Choose an optimal value from 0.01, 0.001, or 0.0001\n",
    "    hp_learning_rate = hp.Choice('learning_rate', values=[1e-2, 1e-3, 1e-4])\n",
    "    model.compile(optimizer=keras.optimizers.Adam(learning_rate=hp_learning_rate),\n",
    "                loss=keras.losses.SparseCategoricalCrossentropy(),\n",
    "                metrics=['accuracy'])\n",
    "    return model"
   ]
  },
  {
   "cell_type": "code",
   "execution_count": null,
   "id": "dc94741a-d31e-4632-ba80-e938c2351991",
   "metadata": {},
   "outputs": [],
   "source": [
    "msle = MeanSquaredLogarithmicError()\n",
    "\n",
    "def model_builder(hp):\n",
    "    '''\n",
    "    Args:\n",
    "    hp - Keras tuner object\n",
    "    '''\n",
    "    # Initialize the Sequential API and start stacking the layers\n",
    "    model = keras.Sequential()\n",
    "    model.add(keras.layers.Flatten(input_shape=(28, 28)))\n",
    "    # Tune the number of units in the first Dense layer\n",
    "    # Choose an optimal value between 32-512\n",
    "    hp_units = hp.Int('units', min_value=32, max_value=512, step=32)\n",
    "    model.add(keras.layers.Dense(units=hp_units, activation='relu', name='dense_1'))\n",
    "    # Add next layers\n",
    "    model.add(keras.layers.Dropout(0.2))\n",
    "    model.add(keras.layers.Dense(10, activation='softmax'))\n",
    "    # Tune the learning rate for the optimizer\n",
    "    # Choose an optimal value from 0.01, 0.001, or 0.0001\n",
    "    hp_learning_rate = hp.Choice('learning_rate', values=[1e-2, 1e-3, 1e-4])\n",
    "    model.compile(optimizer=keras.optimizers.Adam(learning_rate=hp_learning_rate),\n",
    "                loss=keras.losses.SparseCategoricalCrossentropy(),\n",
    "                metrics=['accuracy'])\n",
    "    return model\n",
    "def build_model(hp):\n",
    "    model = tf.keras.Sequential()\n",
    "\n",
    "    # Tune the number of units in the first Dense layer\n",
    "    # Choose an optimal value between 32-512\n",
    "    hp_units1 = hp.Int('units1', min_value=32, max_value=512, step=32)\n",
    "    hp_units2 = hp.Int('units2', min_value=32, max_value=512, step=32)\n",
    "    hp_units3 = hp.Int('units3', min_value=32, max_value=512, step=32)\n",
    "    model.add(Dense(units=hp_units1, activation='relu'))\n",
    "    model.add(tf.keras.layers.Dense(units=hp_units2, activation='relu'))\n",
    "    model.add(tf.keras.layers.Dense(units=hp_units3, activation='relu'))\n",
    "    model.add(Dense(1, kernel_initializer='normal', activation='linear'))\n",
    "\n",
    "    # Tune the learning rate for the optimizer\n",
    "    # Choose an optimal value from 0.01, 0.001, or 0.0001\n",
    "    hp_learning_rate = hp.Choice('learning_rate', values=[1e-2, 1e-3, 1e-4])\n",
    "\n",
    "    model.compile(\n",
    "      optimizer=tf.keras.optimizers.Adam(learning_rate=hp_learning_rate),\n",
    "      loss=msle,\n",
    "      metrics=[msle]\n",
    "    )\n",
    "\n",
    "    return model\n",
    "\n",
    "# HyperBand algorithm from keras tuner\n",
    "tuner = kt.Hyperband(\n",
    "    build_model,\n",
    "    objective='val_mean_squared_logarithmic_error',\n",
    "    max_epochs=10,\n",
    "    directory='keras_tuner_dir',\n",
    "    project_name='keras_tuner_demo'\n",
    ")\n",
    "\n",
    "tuner.search(x_train, y_train, epochs=10, validation_split=0.2)"
   ]
  },
  {
   "cell_type": "code",
   "execution_count": null,
   "id": "ff4f468f-9ce0-4453-9365-090656ea508b",
   "metadata": {},
   "outputs": [],
   "source": [
    "# for h_param in [f\"units{i}\" for i in range(1,4)] + ['learning_rate']:\n",
    "#     print(h_param, tuner.get_best_hyperparameters()[0].get(h_param))"
   ]
  },
  {
   "cell_type": "code",
   "execution_count": null,
   "id": "f94d89d3-9d5b-4d63-bb1e-2898a7d3b6a4",
   "metadata": {},
   "outputs": [],
   "source": []
  },
  {
   "cell_type": "code",
   "execution_count": null,
   "id": "ec1117a4-ae1a-4cd7-bfa0-e5119553960b",
   "metadata": {},
   "outputs": [],
   "source": []
  },
  {
   "cell_type": "code",
   "execution_count": null,
   "id": "00c28c40-6ae2-4e50-9618-fc6f6b3c75c2",
   "metadata": {},
   "outputs": [],
   "source": []
  },
  {
   "cell_type": "markdown",
   "id": "00107f4d-006c-41c9-b693-c75c37dfb7a7",
   "metadata": {},
   "source": [
    "# CATBOOST"
   ]
  },
  {
   "cell_type": "code",
   "execution_count": null,
   "id": "b05a37c3-a9c5-497a-924f-51a75d7b8914",
   "metadata": {},
   "outputs": [],
   "source": [
    "# from sklearn.model_selection import train_test_split\n",
    "# from sklearn.metrics import mean_squared_error\n",
    "# import optuna"
   ]
  },
  {
   "cell_type": "code",
   "execution_count": null,
   "id": "d85393c5-82ed-4575-af27-48c611edaf4f",
   "metadata": {},
   "outputs": [],
   "source": [
    "# SAMPLE_RATE = 0.4\n",
    "# RANDOM_SEED = 1\n",
    "# EARLY_STOPPING_ROUND = 100\n",
    "# X_train, X_valid, y_train, y_valid = train_test_split(X, y, test_size=0.2, random_state=RANDOM_SEED)\n",
    "# X_train, X_eval, y_train, y_eval = train_test_split(X_train, y_train, test_size=0.1, random_state=RANDOM_SEED)"
   ]
  },
  {
   "cell_type": "code",
   "execution_count": null,
   "id": "ead3c5f4-ec1a-4823-ae31-63b772459a90",
   "metadata": {},
   "outputs": [],
   "source": [
    "# def objective(trial):\n",
    "#     param = {}\n",
    "#     param['learning_rate'] = trial.suggest_discrete_uniform(\"learning_rate\", 0.001, 0.02, 0.001)\n",
    "#     param['depth'] = trial.suggest_int('depth', 9, 15)\n",
    "#     param['l2_leaf_reg'] = trial.suggest_discrete_uniform('l2_leaf_reg', 1.0, 5.5, 0.5)\n",
    "#     param['min_child_samples'] = trial.suggest_categorical('min_child_samples', [1, 4, 8, 16, 32])\n",
    "#     param['grow_policy'] = 'Depthwise'\n",
    "#     param['iterations'] = 10000\n",
    "#     param['use_best_model'] = True\n",
    "#     param['eval_metric'] = 'RMSE'\n",
    "#     param['od_type'] = 'iter'\n",
    "#     param['od_wait'] = 20\n",
    "#     param['random_state'] = RANDOM_SEED\n",
    "#     param['logging_level'] = 'Silent'\n",
    "    \n",
    "#     regressor = CatBoostRegressor(**param)\n",
    "\n",
    "#     regressor.fit(X_train.copy(), y_train.copy(),\n",
    "#                   eval_set=[(X_eval.copy(), y_eval.copy())],\n",
    "#                   early_stopping_rounds=EARLY_STOPPING_ROUND)\n",
    "#     loss = mean_squared_error(y_valid, regressor.predict(X_valid.copy()))\n",
    "#     return loss\n",
    "    "
   ]
  },
  {
   "cell_type": "code",
   "execution_count": null,
   "id": "7e0d5416-ee12-43de-b8c5-ce7d5c23d2ed",
   "metadata": {},
   "outputs": [],
   "source": [
    "# %%time\n",
    "# import warnings\n",
    "# warnings.filterwarnings('ignore')\n",
    "# study = optuna.create_study(study_name=f'catboost-seed{RANDOM_SEED}')\n",
    "# study.optimize(objective, n_trials=10, n_jobs=-1, timeout=24000)"
   ]
  },
  {
   "cell_type": "code",
   "execution_count": null,
   "id": "b5f7f5c1-8253-43d3-b5f2-06e13880fbd2",
   "metadata": {},
   "outputs": [],
   "source": [
    "# study.best_value"
   ]
  },
  {
   "cell_type": "code",
   "execution_count": null,
   "id": "d6cbbe8d-a0d3-420e-9785-7f7022efffe3",
   "metadata": {},
   "outputs": [],
   "source": [
    "# study.best_params"
   ]
  },
  {
   "cell_type": "code",
   "execution_count": null,
   "id": "bc40b09a-858d-4f60-b00c-8513f725e1c7",
   "metadata": {},
   "outputs": [],
   "source": [
    "# optuna.visualization.plot_optimization_history(study)"
   ]
  },
  {
   "cell_type": "code",
   "execution_count": null,
   "id": "074a1d11-b940-4bec-a920-a5d0595be53d",
   "metadata": {},
   "outputs": [],
   "source": [
    "# optuna.visualization.plot_slice(study)"
   ]
  },
  {
   "cell_type": "code",
   "execution_count": null,
   "id": "9705fb9c-c9a9-43ff-96a1-cbe5e285e2e3",
   "metadata": {},
   "outputs": [],
   "source": [
    "# optuna.visualization.plot_contour(study, params=['learning_rate',\n",
    "#                                                  'min_child_samples',\n",
    "#                                                  'depth',\n",
    "#                                                  'l2_leaf_reg'])"
   ]
  },
  {
   "cell_type": "code",
   "execution_count": null,
   "id": "5a7b251f-52ae-4502-9bf2-d099b450aa64",
   "metadata": {},
   "outputs": [],
   "source": [
    "# optuna.visualization.plot_param_importances(study)"
   ]
  },
  {
   "cell_type": "code",
   "execution_count": null,
   "id": "c1a097e3-c848-4e6b-92e9-db13f2e278a0",
   "metadata": {},
   "outputs": [],
   "source": [
    "# optuna.visualization.plot_edf(study)"
   ]
  },
  {
   "cell_type": "code",
   "execution_count": null,
   "id": "35eb04ba-c5fb-4f92-93e2-3f5dee5808f4",
   "metadata": {},
   "outputs": [],
   "source": [
    "# %%time\n",
    "# optimized_regressor = CatBoostRegressor(learning_rate=study.best_params['learning_rate'],\n",
    "#                                         depth=study.best_params['depth'],\n",
    "#                                         l2_leaf_reg=study.best_params['l2_leaf_reg'],\n",
    "#                                         min_child_samples=study.best_params['min_child_samples'],\n",
    "#                                         grow_policy='Depthwise',\n",
    "#                                         iterations=10000,\n",
    "#                                         use_best_model=True,\n",
    "#                                         eval_metric='RMSE',\n",
    "#                                         od_type='iter',\n",
    "#                                         od_wait=20,\n",
    "#                                         random_state=RANDOM_SEED,\n",
    "#                                         logging_level='Silent')\n",
    "# optimized_regressor.fit(X_train.copy(), y_train.copy(),\n",
    "#                         eval_set=[(X_eval.copy(), y_eval.copy())],\n",
    "#                         early_stopping_rounds=EARLY_STOPPING_ROUND)\n",
    "# pred_train = optimized_regressor.predict(X_train.copy())\n",
    "# pred_valid = optimized_regressor.predict(X_valid.copy())"
   ]
  },
  {
   "cell_type": "code",
   "execution_count": null,
   "id": "208f8832-d991-4330-abb3-cf2bb9cb1a94",
   "metadata": {},
   "outputs": [],
   "source": [
    "catboost = CatBoostRegressor(\n",
    "    n_estimators=64,\n",
    "    learning_rate=0.427912392471475789,\n",
    "    depth=8,\n",
    "    bagging_temperature=0.1080748346321565,\n",
    "    border_count = 210,\n",
    "    l2_leaf_reg = 10,\n",
    "    random_strength = 5.03391369357891e-09,\n",
    "    cat_features=var_categ,\n",
    "    thread_count=-1,\n",
    "    silent=True\n",
    ")"
   ]
  },
  {
   "cell_type": "code",
   "execution_count": null,
   "id": "41eedb69-b8dd-46e6-810c-aaa763d09014",
   "metadata": {},
   "outputs": [],
   "source": [
    "testX = beer_test.drop(['id','Date'], axis=1)\n",
    "if 'Sales' in testX.columns:\n",
    "    testX = testX.drop(['Sales'], axis=1)\n",
    "\n",
    "#Now all data\n",
    "catboost.fit(X,y)\n",
    "catboost_prediction = catboost.predict(testX)\n",
    "\n",
    "beer_test['Sales'] = catboost_prediction\n",
    "beer_test = beer_test.sort_values(by=['id'])\n",
    "\n",
    "beer_test[['id','Sales']].to_csv(\"data/results_catboost.csv\", index=False)"
   ]
  },
  {
   "cell_type": "markdown",
   "id": "954a1150-6064-46dc-a8c1-8458a10d9275",
   "metadata": {},
   "source": [
    "# LGBM"
   ]
  },
  {
   "cell_type": "code",
   "execution_count": null,
   "id": "0c766966-e455-451a-bf07-3cc09d11ea00",
   "metadata": {},
   "outputs": [],
   "source": [
    "# train_x,test_x,train_y,test_y = train_test_split(X,y,test_size=0.33,random_state=42)"
   ]
  },
  {
   "cell_type": "code",
   "execution_count": null,
   "id": "16e7fefc-5019-4dc2-a78f-f82a2445b34d",
   "metadata": {},
   "outputs": [],
   "source": [
    "# %%time\n",
    "# from lightgbm import LGBMRegressor\n",
    "# import optuna\n",
    "# from sklearn.metrics import mean_squared_error\n",
    "# # from optuna.integration.lightgbm import LGBMRegressor\n",
    "\n",
    "# def objective(trial):\n",
    "\n",
    "\n",
    "#     min_child_samples = trial.suggest_int('min_child_samples', 5, 100)\n",
    "#     num_leaves = trial.suggest_int('num_leaves', 2, 256)\n",
    "#     learning_rate = trial.suggest_uniform('learning_rate', 0.05, .7)\n",
    "#     n_estimators = trial.suggest_int('n_estimators', 2, 100)\n",
    "\n",
    "#     clf = LGBMRegressor(num_leaves=num_leaves,\n",
    "#                         objective = 'mape',\n",
    "#                         learning_rate=learning_rate,\n",
    "#                         n_estimators=n_estimators,\n",
    "#                         min_child_samples=min_child_samples,\n",
    "#                         n_jobs=-1\n",
    "#                        )\n",
    "    \n",
    "#     clf.fit(train_x, train_y)\n",
    "#     y_pred = clf.predict(test_x, num_iteration=clf.best_iteration_)\n",
    "#     loss = mean_squared_error(test_y, y_pred)\n",
    "#     return loss\n",
    "\n",
    "# study = optuna.create_study(direction=\"minimize\")\n",
    "# study.optimize(objective, n_trials=10,  n_jobs=-1, timeout=24000)\n",
    "# print(study.best_trial)"
   ]
  },
  {
   "cell_type": "code",
   "execution_count": null,
   "id": "a85de7b2-414d-4b1e-906a-bca51bf8fabc",
   "metadata": {},
   "outputs": [],
   "source": [
    "# study.best_value"
   ]
  },
  {
   "cell_type": "code",
   "execution_count": null,
   "id": "3ebcd759-f023-453d-ae1e-27851d341ea4",
   "metadata": {},
   "outputs": [],
   "source": [
    "# study.best_params"
   ]
  },
  {
   "cell_type": "code",
   "execution_count": null,
   "id": "92de148e-cbaf-49e5-9986-fbf4a394cd5b",
   "metadata": {},
   "outputs": [],
   "source": [
    "# optuna.visualization.plot_optimization_history(study)"
   ]
  },
  {
   "cell_type": "code",
   "execution_count": null,
   "id": "cc1489bd-82e8-411c-8df5-80daf6adada5",
   "metadata": {},
   "outputs": [],
   "source": [
    "# optuna.visualization.plot_slice(study)"
   ]
  },
  {
   "cell_type": "code",
   "execution_count": null,
   "id": "9800d3b2-fc04-427d-9db8-164797d995ba",
   "metadata": {},
   "outputs": [],
   "source": [
    "# optuna.visualization.plot_contour(study, params=['learning_rate',\n",
    "#                                                  'min_child_samples',\n",
    "#                                                  'num_leaves',\n",
    "#                                                  'n_estimators'])"
   ]
  },
  {
   "cell_type": "code",
   "execution_count": null,
   "id": "83459604-2cd3-4d5d-99a7-4c00a67e3360",
   "metadata": {},
   "outputs": [],
   "source": [
    "# optuna.visualization.plot_param_importances(study)"
   ]
  },
  {
   "cell_type": "code",
   "execution_count": null,
   "id": "ec79b236-11a0-47b3-afcd-72acedd6e694",
   "metadata": {},
   "outputs": [],
   "source": [
    "# optuna.visualization.plot_edf(study)"
   ]
  },
  {
   "cell_type": "code",
   "execution_count": null,
   "id": "22987092-7ee6-42b1-a876-bb2d8fe2e00e",
   "metadata": {},
   "outputs": [],
   "source": [
    "# %%time\n",
    "# optimized_regressor = CatBoostRegressor(learning_rate=study.best_params['learning_rate'],\n",
    "#                                         depth=study.best_params['depth'],\n",
    "#                                         l2_leaf_reg=study.best_params['l2_leaf_reg'],\n",
    "#                                         min_child_samples=study.best_params['min_child_samples'],\n",
    "#                                         grow_policy='Depthwise',\n",
    "#                                         iterations=10000,\n",
    "#                                         use_best_model=True,\n",
    "#                                         eval_metric='RMSE',\n",
    "#                                         od_type='iter',\n",
    "#                                         od_wait=20,\n",
    "#                                         random_state=RANDOM_SEED,\n",
    "#                                         logging_level='Silent')\n",
    "# optimized_regressor.fit(X_train.copy(), y_train.copy(),\n",
    "#                         eval_set=[(X_eval.copy(), y_eval.copy())],\n",
    "#                         early_stopping_rounds=EARLY_STOPPING_ROUND)\n",
    "# pred_train = optimized_regressor.predict(X_train.copy())\n",
    "# pred_valid = optimized_regressor.predict(X_valid.copy())"
   ]
  },
  {
   "cell_type": "code",
   "execution_count": null,
   "id": "f9648e55-4f32-412f-a499-1c8107649c24",
   "metadata": {},
   "outputs": [],
   "source": [
    "lgbm = LGBMRegressor(\n",
    "    boosting_type = 'dart',\n",
    "    learning_rate = 0.039691509923932582, \n",
    "    max_depth = 10,\n",
    "    metric='rmse',\n",
    "    n_estimators = 330,\n",
    "    num_leaves = 21,\n",
    "    subsample_for_bin = 201000,\n",
    "    colsample_bytree = 0.8,\n",
    "    subsample = 1.0,\n",
    "    silent=True\n",
    "    )"
   ]
  },
  {
   "cell_type": "code",
   "execution_count": null,
   "id": "05d7918e-7269-4b34-a74c-c155833b498e",
   "metadata": {},
   "outputs": [],
   "source": [
    "testX = beer_test.drop(['id','Date'], axis=1)\n",
    "if 'Sales' in testX.columns:\n",
    "    testX = testX.drop(['Sales'], axis=1)\n",
    "\n",
    "#Now all data\n",
    "lgbm.fit(X,y)\n",
    "lgbm_prediction = lgbm.predict(testX)\n",
    "\n",
    "beer_test['Sales'] = lgbm_prediction\n",
    "beer_test = beer_test.sort_values(by=['id'])\n",
    "\n",
    "beer_test\n",
    "beer_test[['id','Sales']].to_csv(\"data/results_LGBM.csv\", index=False)"
   ]
  },
  {
   "cell_type": "code",
   "execution_count": null,
   "id": "cc16ddde-8c51-4fa2-8dad-cf1d5107ea30",
   "metadata": {},
   "outputs": [],
   "source": []
  }
 ],
 "metadata": {
  "kernelspec": {
   "display_name": "Python 3",
   "language": "python",
   "name": "python3"
  },
  "language_info": {
   "codemirror_mode": {
    "name": "ipython",
    "version": 3
   },
   "file_extension": ".py",
   "mimetype": "text/x-python",
   "name": "python",
   "nbconvert_exporter": "python",
   "pygments_lexer": "ipython3",
   "version": "3.9.7"
  }
 },
 "nbformat": 4,
 "nbformat_minor": 5
}
