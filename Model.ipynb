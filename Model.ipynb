{
 "cells": [
  {
   "cell_type": "code",
   "execution_count": 15,
   "id": "fdd30114-5f9e-4041-b6d6-9471c9c1d30e",
   "metadata": {},
   "outputs": [],
   "source": [
    "import os\n",
    "import datetime\n",
    "\n",
    "import IPython\n",
    "import IPython.display\n",
    "import matplotlib as mpl\n",
    "import matplotlib.pyplot as plt\n",
    "import numpy as np\n",
    "import pandas as pd\n",
    "import seaborn as sns\n",
    "from matplotlib import pyplot\n",
    "from datetime import datetime\n",
    "from sklearn.preprocessing import OrdinalEncoder\n",
    "from sklearn.model_selection import train_test_split\n",
    "from sklearn import metrics\n",
    "import lightgbm as lgb\n",
    "from lightgbm import LGBMRegressor\n",
    "#from statsmodels.graphics.tsaplots import plot_acf\n",
    "from datetime import date\n",
    "import seaborn as sns\n",
    "import string\n",
    "from sklearn.preprocessing import OneHotEncoder, LabelEncoder, StandardScaler\n",
    "from catboost import CatBoostRegressor\n",
    "plt.style.use('ggplot')\n",
    "import warnings\n",
    "warnings.filterwarnings('ignore')\n",
    "%matplotlib inline"
   ]
  },
  {
   "cell_type": "code",
   "execution_count": 16,
   "id": "1ab6156d-d4b1-421d-9954-ca134a1f34db",
   "metadata": {},
   "outputs": [],
   "source": [
    "beer_train = pd.read_csv(\"train_preprocessed.csv\",dtype={'Store': object,'ts_promo': object,'store_promo': object,'dom_promo': object,'dow_promo': object})\n",
    "beer_train['Date'] = pd.to_datetime(beer_train['Date'])"
   ]
  },
  {
   "cell_type": "code",
   "execution_count": 17,
   "id": "2cbaaa38-48ac-4fba-b1f1-4fafd0f754ce",
   "metadata": {},
   "outputs": [],
   "source": [
    "beer_test = pd.read_csv(\"test_preprocessed.csv\",dtype={'Store': object,'ts_promo': object,'store_promo': object,'dom_promo': object,'dow_promo': object})\n",
    "beer_test['Date'] = pd.to_datetime(beer_test['Date'])"
   ]
  },
  {
   "cell_type": "code",
   "execution_count": 18,
   "id": "3ba05a82-fab4-484d-bdb8-7b2b5dc38ce9",
   "metadata": {},
   "outputs": [],
   "source": [
    "for c in beer_train.columns:\n",
    "    col_type = beer_train[c].dtype\n",
    "    if col_type == 'object' or col_type.name == 'category':\n",
    "        beer_train[c] = beer_train[c].astype('category')"
   ]
  },
  {
   "cell_type": "code",
   "execution_count": 19,
   "id": "8540c872-20f8-41c1-8d76-d67d3e54ed65",
   "metadata": {},
   "outputs": [],
   "source": [
    "for c in beer_test.columns:\n",
    "    col_type = beer_test[c].dtype\n",
    "    if col_type == 'object' or col_type.name == 'category':\n",
    "        beer_test[c] = beer_test[c].astype('category')"
   ]
  },
  {
   "cell_type": "code",
   "execution_count": 20,
   "id": "aa9e6b2d-6939-480a-b692-1dba8dccd7b1",
   "metadata": {},
   "outputs": [
    {
     "name": "stdout",
     "output_type": "stream",
     "text": [
      "False\n",
      "False\n"
     ]
    }
   ],
   "source": [
    "print(beer_train['Date'].is_monotonic_increasing)\n",
    "print(beer_test['Date'].is_monotonic_increasing)\n",
    "beer_train = beer_train.sort_values(by=['Date'])\n",
    "beer_test = beer_test.sort_values(by=['Date'])"
   ]
  },
  {
   "cell_type": "code",
   "execution_count": 21,
   "id": "245a0827-bdab-4c67-a3b5-fce0c080f83e",
   "metadata": {},
   "outputs": [],
   "source": [
    "# non_numeric_features = ['Store', 'SKU', 'Segment', 'Pack', 'Product', 'Brand','Season',\n",
    "#        'Birthdays', \"New Year's Day\", 'New Year Holiday',\n",
    "#        \"The Prophet's Birthday\", 'Orthodox Christmas Day', 'Old New Year',\n",
    "#        \"Valentine's Day\", 'Defender of the Fatherland Day',\n",
    "#        'Special Operations Forces Day', \"International Women's Day\",\n",
    "#        \"Day off for International Women's Day\", 'March Equinox',\n",
    "#        'Orthodox Easter Day', 'Spring and Labor Day', 'Public Holiday',\n",
    "#        'Victory Day', 'Day off for Victory Day', \"Isra and Mi'raj\",\n",
    "#        'Russia Day', 'Ramadan starts', 'June Solstice', 'Lailat al-Qadr',\n",
    "#        'Eid al-Fitr', 'Day of Knowledge', 'September Equinox', 'Eid al-Adha',\n",
    "#        'Muharram', 'Unity Day', 'December Solstice',\n",
    "#        'New Year Holiday Substitution', 'Day off for Spring and Labor Day',\n",
    "#        'Day off for Russia Day', 'Extra holiday in lieu of Jan. 1',\n",
    "#        'Extra holiday in lieu of Jan. 7', 'Day off for Unity Day', 'Holiday']\n",
    "\n",
    "# for feature in non_numeric_features:        \n",
    "#     beer_train[feature] = LabelEncoder().fit_transform(beer_train[feature])\n",
    "#     beer_train[feature] = LabelEncoder().fit_transform(beer_train[feature])"
   ]
  },
  {
   "cell_type": "code",
   "execution_count": 22,
   "id": "c7dd1091-26ac-4096-95eb-a08cb2921c2b",
   "metadata": {},
   "outputs": [],
   "source": [
    "X = beer_train.drop(['Sales','Date'], axis=1)#Date\n",
    "y = beer_train['Sales']"
   ]
  },
  {
   "cell_type": "code",
   "execution_count": 23,
   "id": "3693f31e-57ab-4323-9e99-b63361121ec1",
   "metadata": {},
   "outputs": [],
   "source": [
    "var_categ =[]\n",
    "for c in X.columns:\n",
    "    col_type = X[c].dtype\n",
    "    if col_type.name == 'category':\n",
    "        var_categ.append(c)\n",
    "\n",
    "# x_train,x_test,y_train,y_test = train_test_split(X,y,test_size=0.33,random_state=42)"
   ]
  },
  {
   "cell_type": "code",
   "execution_count": 47,
   "id": "ef9928a2-a9ce-4f26-8d72-91433008e352",
   "metadata": {},
   "outputs": [],
   "source": [
    "x_train,x_test,y_train,y_test = train_test_split(X,y,test_size=0.33,random_state=42)"
   ]
  },
  {
   "cell_type": "markdown",
   "id": "5722fd6a-c3ae-4e7f-ae6b-a05fae0763cc",
   "metadata": {},
   "source": [
    "# ------------------------------------------------------"
   ]
  },
  {
   "cell_type": "markdown",
   "id": "dc16bdcd-40b7-4493-87c8-788db673ed68",
   "metadata": {},
   "source": [
    "# Keras"
   ]
  },
  {
   "cell_type": "code",
   "execution_count": 44,
   "id": "1f161efe-b1e3-407e-aaea-6eafa5ee2291",
   "metadata": {},
   "outputs": [],
   "source": [
    "import keras_tuner as kt\n",
    "import numpy\n",
    "import matplotlib.pyplot as plt\n",
    "import pandas\n",
    "import math\n",
    "from keras.models import Sequential\n",
    "from keras.layers import Dense\n",
    "from keras.layers import LSTM\n",
    "from sklearn.preprocessing import MinMaxScaler\n",
    "from sklearn.metrics import mean_squared_error\n",
    "import math\n",
    "import pandas as pd\n",
    "import tensorflow as tf\n",
    "import matplotlib.pyplot as plt\n",
    "from tensorflow.keras import Model\n",
    "from tensorflow.keras import Sequential\n",
    "from tensorflow.keras.optimizers import Adam\n",
    "from sklearn.preprocessing import StandardScaler\n",
    "from tensorflow.keras.layers import Dense, Dropout\n",
    "from sklearn.model_selection import train_test_split\n",
    "from tensorflow.keras.losses import MeanSquaredLogarithmicError"
   ]
  },
  {
   "cell_type": "code",
   "execution_count": 45,
   "id": "6ddf9be3-67fa-45d9-884c-ea2656134279",
   "metadata": {},
   "outputs": [],
   "source": [
    "def model_builder(hp):\n",
    "    '''\n",
    "    Args:\n",
    "    hp - Keras tuner object\n",
    "    '''\n",
    "    # Initialize the Sequential API and start stacking the layers\n",
    "    model = keras.Sequential()\n",
    "    model.add(keras.layers.Flatten(input_shape=(28, 28)))\n",
    "    # Tune the number of units in the first Dense layer\n",
    "    # Choose an optimal value between 32-512\n",
    "    hp_units = hp.Int('units', min_value=32, max_value=512, step=32)\n",
    "    model.add(keras.layers.Dense(units=hp_units, activation='relu', name='dense_1'))\n",
    "    # Add next layers\n",
    "    model.add(keras.layers.Dropout(0.2))\n",
    "    model.add(keras.layers.Dense(10, activation='softmax'))\n",
    "    # Tune the learning rate for the optimizer\n",
    "    # Choose an optimal value from 0.01, 0.001, or 0.0001\n",
    "    hp_learning_rate = hp.Choice('learning_rate', values=[1e-2, 1e-3, 1e-4])\n",
    "    model.compile(optimizer=keras.optimizers.Adam(learning_rate=hp_learning_rate),\n",
    "                loss=keras.losses.SparseCategoricalCrossentropy(),\n",
    "                metrics=['accuracy'])\n",
    "    return model"
   ]
  },
  {
   "cell_type": "code",
   "execution_count": 48,
   "id": "dc94741a-d31e-4632-ba80-e938c2351991",
   "metadata": {},
   "outputs": [
    {
     "name": "stdout",
     "output_type": "stream",
     "text": [
      "INFO:tensorflow:Reloading Oracle from existing project keras_tuner_dir\\keras_tuner_demo\\oracle.json\n",
      "\n",
      "Search: Running Trial #1\n",
      "\n",
      "Hyperparameter    |Value             |Best Value So Far \n",
      "units1            |96                |?                 \n",
      "units2            |128               |?                 \n",
      "units3            |416               |?                 \n",
      "learning_rate     |0.01              |?                 \n",
      "tuner/epochs      |2                 |?                 \n",
      "tuner/initial_e...|0                 |?                 \n",
      "tuner/bracket     |2                 |?                 \n",
      "tuner/round       |0                 |?                 \n",
      "\n"
     ]
    },
    {
     "ename": "ValueError",
     "evalue": "Failed to convert a NumPy array to a Tensor (Unsupported object type int).",
     "output_type": "error",
     "traceback": [
      "\u001b[1;31m---------------------------------------------------------------------------\u001b[0m",
      "\u001b[1;31mTypeError\u001b[0m                                 Traceback (most recent call last)",
      "\u001b[1;32m~\\AppData\\Roaming\\Python\\Python38\\site-packages\\tensorflow\\python\\data\\util\\structure.py\u001b[0m in \u001b[0;36mnormalize_element\u001b[1;34m(element, element_signature)\u001b[0m\n\u001b[0;32m    105\u001b[0m         \u001b[1;32mif\u001b[0m \u001b[0mspec\u001b[0m \u001b[1;32mis\u001b[0m \u001b[1;32mNone\u001b[0m\u001b[1;33m:\u001b[0m\u001b[1;33m\u001b[0m\u001b[1;33m\u001b[0m\u001b[0m\n\u001b[1;32m--> 106\u001b[1;33m           \u001b[0mspec\u001b[0m \u001b[1;33m=\u001b[0m \u001b[0mtype_spec_from_value\u001b[0m\u001b[1;33m(\u001b[0m\u001b[0mt\u001b[0m\u001b[1;33m,\u001b[0m \u001b[0muse_fallback\u001b[0m\u001b[1;33m=\u001b[0m\u001b[1;32mFalse\u001b[0m\u001b[1;33m)\u001b[0m\u001b[1;33m\u001b[0m\u001b[1;33m\u001b[0m\u001b[0m\n\u001b[0m\u001b[0;32m    107\u001b[0m       \u001b[1;32mexcept\u001b[0m \u001b[0mTypeError\u001b[0m\u001b[1;33m:\u001b[0m\u001b[1;33m\u001b[0m\u001b[1;33m\u001b[0m\u001b[0m\n",
      "\u001b[1;32m~\\AppData\\Roaming\\Python\\Python38\\site-packages\\tensorflow\\python\\data\\util\\structure.py\u001b[0m in \u001b[0;36mtype_spec_from_value\u001b[1;34m(element, use_fallback)\u001b[0m\n\u001b[0;32m    485\u001b[0m \u001b[1;33m\u001b[0m\u001b[0m\n\u001b[1;32m--> 486\u001b[1;33m   raise TypeError(\"Could not build a TypeSpec for %r with type %s\" %\n\u001b[0m\u001b[0;32m    487\u001b[0m                   (element, type(element).__name__))\n",
      "\u001b[1;31mTypeError\u001b[0m: Could not build a TypeSpec for          ts_id  isPromo Store                        SKU      Segment    Pack  \\\n1242488   1853      0.0  9941   _Flash Up Energy PET 0,5  High Margin     PET   \n933860    1403      1.0  8322       _Baltika №7 Can 0,45      Premium     Can   \n415486     666      1.0  6226    _Baltika №7 Bottle 0,47      Premium  Bottle   \n868692    1314      0.0  7986  _Tuborg Green Bottle 0,48      Premium  Bottle   \n49726       72      0.0  3315       _Baltika №0 Can 0,45      Premium     Can   \n...        ...      ...   ...                        ...          ...     ...   \n1268711   1902      1.0  D123       _Baltika №7 Can 0,45      Premium     Can   \n388311     629      0.0  6031       _Baltika №3 Can 0,45   MainStream     Can   \n1231581   1828      0.0  9936       _Baltika №7 Can 0,45      Premium     Can   \n1121940   1660      0.0  9265       _Baltika №7 Can 0,45      Premium     Can   \n973531    1457      0.0  8527       _Baltika №0 Can 0,45      Premium     Can   \n\n              Product       Brand  Volume  ProductPromoEffectiveness  ...  \\\n1242488  Energy-drink       Flash    0.50                          0  ...   \n933860          Lager  Baltika №7    0.45                          0  ...   \n415486          Lager  Baltika №7    0.50                          0  ...   \n868692          Lager      Tuborg    0.50                          0  ...   \n49726        Non-alco  Baltika №3    0.45                          0  ...   \n...               ...         ...     ...                        ...  ...   \n1268711         Lager  Baltika №7    0.45                          0  ...   \n388311          Lager  Baltika №3    0.45                          0  ...   \n1231581         Lager  Baltika №7    0.45                          0  ...   \n1121940         Lager  Baltika №7    0.45                          0  ...   \n973531       Non-alco  Baltika №3    0.45                          0  ...   \n\n         Muharram  Unity Day  December Solstice  \\\n1242488       0.0        0.0                0.0   \n933860        0.0        0.0                0.0   \n415486        0.0        0.0                0.0   \n868692        0.0        0.0                0.0   \n49726         0.0        0.0                0.0   \n...           ...        ...                ...   \n1268711       0.0        0.0                0.0   \n388311        0.0        0.0                0.0   \n1231581       0.0        0.0                0.0   \n1121940       0.0        0.0                0.0   \n973531        0.0        0.0                0.0   \n\n         New Year Holiday Substitution  Day off for Spring and Labor Day  \\\n1242488                            0.0                               0.0   \n933860                             0.0                               0.0   \n415486                             0.0                               0.0   \n868692                             0.0                               0.0   \n49726                              0.0                               0.0   \n...                                ...                               ...   \n1268711                            0.0                               0.0   \n388311                             0.0                               0.0   \n1231581                            0.0                               0.0   \n1121940                            0.0                               0.0   \n973531                             0.0                               0.0   \n\n         Day off for Russia Day  Extra holiday in lieu of Jan. 1  \\\n1242488                     0.0                              0.0   \n933860                      0.0                              0.0   \n415486                      0.0                              0.0   \n868692                      0.0                              0.0   \n49726                       0.0                              0.0   \n...                         ...                              ...   \n1268711                     0.0                              0.0   \n388311                      0.0                              0.0   \n1231581                     0.0                              0.0   \n1121940                     0.0                              0.0   \n973531                      0.0                              0.0   \n\n         Extra holiday in lieu of Jan. 7  Day off for Unity Day  \\\n1242488                              0.0                    0.0   \n933860                               0.0                    0.0   \n415486                               0.0                    0.0   \n868692                               0.0                    0.0   \n49726                                0.0                    0.0   \n...                                  ...                    ...   \n1268711                              0.0                    0.0   \n388311                               0.0                    0.0   \n1231581                              0.0                    0.0   \n1121940                              0.0                    0.0   \n973531                               0.0                    0.0   \n\n                  Holiday  \n1242488       Not Holiday  \n933860        Not Holiday  \n415486        Not Holiday  \n868692        Not Holiday  \n49726         Not Holiday  \n...                   ...  \n1268711       Not Holiday  \n388311        Not Holiday  \n1231581       Not Holiday  \n1121940       Not Holiday  \n973531   New Year Holiday  \n\n[740924 rows x 60 columns] with type DataFrame",
      "\nDuring handling of the above exception, another exception occurred:\n",
      "\u001b[1;31mValueError\u001b[0m                                Traceback (most recent call last)",
      "\u001b[1;32m<ipython-input-48-183698bba063>\u001b[0m in \u001b[0;36m<module>\u001b[1;34m\u001b[0m\n\u001b[0;32m     57\u001b[0m )\n\u001b[0;32m     58\u001b[0m \u001b[1;33m\u001b[0m\u001b[0m\n\u001b[1;32m---> 59\u001b[1;33m \u001b[0mtuner\u001b[0m\u001b[1;33m.\u001b[0m\u001b[0msearch\u001b[0m\u001b[1;33m(\u001b[0m\u001b[0mx_train\u001b[0m\u001b[1;33m,\u001b[0m \u001b[0my_train\u001b[0m\u001b[1;33m,\u001b[0m \u001b[0mepochs\u001b[0m\u001b[1;33m=\u001b[0m\u001b[1;36m10\u001b[0m\u001b[1;33m,\u001b[0m \u001b[0mvalidation_split\u001b[0m\u001b[1;33m=\u001b[0m\u001b[1;36m0.2\u001b[0m\u001b[1;33m)\u001b[0m\u001b[1;33m\u001b[0m\u001b[1;33m\u001b[0m\u001b[0m\n\u001b[0m",
      "\u001b[1;32m~\\anaconda3\\lib\\site-packages\\keras_tuner\\engine\\base_tuner.py\u001b[0m in \u001b[0;36msearch\u001b[1;34m(self, *fit_args, **fit_kwargs)\u001b[0m\n\u001b[0;32m    174\u001b[0m \u001b[1;33m\u001b[0m\u001b[0m\n\u001b[0;32m    175\u001b[0m             \u001b[0mself\u001b[0m\u001b[1;33m.\u001b[0m\u001b[0mon_trial_begin\u001b[0m\u001b[1;33m(\u001b[0m\u001b[0mtrial\u001b[0m\u001b[1;33m)\u001b[0m\u001b[1;33m\u001b[0m\u001b[1;33m\u001b[0m\u001b[0m\n\u001b[1;32m--> 176\u001b[1;33m             \u001b[0mself\u001b[0m\u001b[1;33m.\u001b[0m\u001b[0mrun_trial\u001b[0m\u001b[1;33m(\u001b[0m\u001b[0mtrial\u001b[0m\u001b[1;33m,\u001b[0m \u001b[1;33m*\u001b[0m\u001b[0mfit_args\u001b[0m\u001b[1;33m,\u001b[0m \u001b[1;33m**\u001b[0m\u001b[0mfit_kwargs\u001b[0m\u001b[1;33m)\u001b[0m\u001b[1;33m\u001b[0m\u001b[1;33m\u001b[0m\u001b[0m\n\u001b[0m\u001b[0;32m    177\u001b[0m             \u001b[0mself\u001b[0m\u001b[1;33m.\u001b[0m\u001b[0mon_trial_end\u001b[0m\u001b[1;33m(\u001b[0m\u001b[0mtrial\u001b[0m\u001b[1;33m)\u001b[0m\u001b[1;33m\u001b[0m\u001b[1;33m\u001b[0m\u001b[0m\n\u001b[0;32m    178\u001b[0m         \u001b[0mself\u001b[0m\u001b[1;33m.\u001b[0m\u001b[0mon_search_end\u001b[0m\u001b[1;33m(\u001b[0m\u001b[1;33m)\u001b[0m\u001b[1;33m\u001b[0m\u001b[1;33m\u001b[0m\u001b[0m\n",
      "\u001b[1;32m~\\anaconda3\\lib\\site-packages\\keras_tuner\\tuners\\hyperband.py\u001b[0m in \u001b[0;36mrun_trial\u001b[1;34m(self, trial, *fit_args, **fit_kwargs)\u001b[0m\n\u001b[0;32m    368\u001b[0m             \u001b[0mfit_kwargs\u001b[0m\u001b[1;33m[\u001b[0m\u001b[1;34m\"epochs\"\u001b[0m\u001b[1;33m]\u001b[0m \u001b[1;33m=\u001b[0m \u001b[0mhp\u001b[0m\u001b[1;33m.\u001b[0m\u001b[0mvalues\u001b[0m\u001b[1;33m[\u001b[0m\u001b[1;34m\"tuner/epochs\"\u001b[0m\u001b[1;33m]\u001b[0m\u001b[1;33m\u001b[0m\u001b[1;33m\u001b[0m\u001b[0m\n\u001b[0;32m    369\u001b[0m             \u001b[0mfit_kwargs\u001b[0m\u001b[1;33m[\u001b[0m\u001b[1;34m\"initial_epoch\"\u001b[0m\u001b[1;33m]\u001b[0m \u001b[1;33m=\u001b[0m \u001b[0mhp\u001b[0m\u001b[1;33m.\u001b[0m\u001b[0mvalues\u001b[0m\u001b[1;33m[\u001b[0m\u001b[1;34m\"tuner/initial_epoch\"\u001b[0m\u001b[1;33m]\u001b[0m\u001b[1;33m\u001b[0m\u001b[1;33m\u001b[0m\u001b[0m\n\u001b[1;32m--> 370\u001b[1;33m         \u001b[0msuper\u001b[0m\u001b[1;33m(\u001b[0m\u001b[0mHyperband\u001b[0m\u001b[1;33m,\u001b[0m \u001b[0mself\u001b[0m\u001b[1;33m)\u001b[0m\u001b[1;33m.\u001b[0m\u001b[0mrun_trial\u001b[0m\u001b[1;33m(\u001b[0m\u001b[0mtrial\u001b[0m\u001b[1;33m,\u001b[0m \u001b[1;33m*\u001b[0m\u001b[0mfit_args\u001b[0m\u001b[1;33m,\u001b[0m \u001b[1;33m**\u001b[0m\u001b[0mfit_kwargs\u001b[0m\u001b[1;33m)\u001b[0m\u001b[1;33m\u001b[0m\u001b[1;33m\u001b[0m\u001b[0m\n\u001b[0m\u001b[0;32m    371\u001b[0m \u001b[1;33m\u001b[0m\u001b[0m\n\u001b[0;32m    372\u001b[0m     \u001b[1;32mdef\u001b[0m \u001b[0m_build_model\u001b[0m\u001b[1;33m(\u001b[0m\u001b[0mself\u001b[0m\u001b[1;33m,\u001b[0m \u001b[0mhp\u001b[0m\u001b[1;33m)\u001b[0m\u001b[1;33m:\u001b[0m\u001b[1;33m\u001b[0m\u001b[1;33m\u001b[0m\u001b[0m\n",
      "\u001b[1;32m~\\anaconda3\\lib\\site-packages\\keras_tuner\\engine\\multi_execution_tuner.py\u001b[0m in \u001b[0;36mrun_trial\u001b[1;34m(self, trial, *fit_args, **fit_kwargs)\u001b[0m\n\u001b[0;32m     88\u001b[0m             \u001b[0mcopied_fit_kwargs\u001b[0m\u001b[1;33m[\u001b[0m\u001b[1;34m\"callbacks\"\u001b[0m\u001b[1;33m]\u001b[0m \u001b[1;33m=\u001b[0m \u001b[0mcallbacks\u001b[0m\u001b[1;33m\u001b[0m\u001b[1;33m\u001b[0m\u001b[0m\n\u001b[0;32m     89\u001b[0m \u001b[1;33m\u001b[0m\u001b[0m\n\u001b[1;32m---> 90\u001b[1;33m             \u001b[0mhistory\u001b[0m \u001b[1;33m=\u001b[0m \u001b[0mself\u001b[0m\u001b[1;33m.\u001b[0m\u001b[0m_build_and_fit_model\u001b[0m\u001b[1;33m(\u001b[0m\u001b[0mtrial\u001b[0m\u001b[1;33m,\u001b[0m \u001b[0mfit_args\u001b[0m\u001b[1;33m,\u001b[0m \u001b[0mcopied_fit_kwargs\u001b[0m\u001b[1;33m)\u001b[0m\u001b[1;33m\u001b[0m\u001b[1;33m\u001b[0m\u001b[0m\n\u001b[0m\u001b[0;32m     91\u001b[0m             \u001b[1;32mfor\u001b[0m \u001b[0mmetric\u001b[0m\u001b[1;33m,\u001b[0m \u001b[0mepoch_values\u001b[0m \u001b[1;32min\u001b[0m \u001b[0mhistory\u001b[0m\u001b[1;33m.\u001b[0m\u001b[0mhistory\u001b[0m\u001b[1;33m.\u001b[0m\u001b[0mitems\u001b[0m\u001b[1;33m(\u001b[0m\u001b[1;33m)\u001b[0m\u001b[1;33m:\u001b[0m\u001b[1;33m\u001b[0m\u001b[1;33m\u001b[0m\u001b[0m\n\u001b[0;32m     92\u001b[0m                 \u001b[1;32mif\u001b[0m \u001b[0mself\u001b[0m\u001b[1;33m.\u001b[0m\u001b[0moracle\u001b[0m\u001b[1;33m.\u001b[0m\u001b[0mobjective\u001b[0m\u001b[1;33m.\u001b[0m\u001b[0mdirection\u001b[0m \u001b[1;33m==\u001b[0m \u001b[1;34m\"min\"\u001b[0m\u001b[1;33m:\u001b[0m\u001b[1;33m\u001b[0m\u001b[1;33m\u001b[0m\u001b[0m\n",
      "\u001b[1;32m~\\anaconda3\\lib\\site-packages\\keras_tuner\\engine\\tuner.py\u001b[0m in \u001b[0;36m_build_and_fit_model\u001b[1;34m(self, trial, fit_args, fit_kwargs)\u001b[0m\n\u001b[0;32m    147\u001b[0m         \"\"\"\n\u001b[0;32m    148\u001b[0m         \u001b[0mmodel\u001b[0m \u001b[1;33m=\u001b[0m \u001b[0mself\u001b[0m\u001b[1;33m.\u001b[0m\u001b[0mhypermodel\u001b[0m\u001b[1;33m.\u001b[0m\u001b[0mbuild\u001b[0m\u001b[1;33m(\u001b[0m\u001b[0mtrial\u001b[0m\u001b[1;33m.\u001b[0m\u001b[0mhyperparameters\u001b[0m\u001b[1;33m)\u001b[0m\u001b[1;33m\u001b[0m\u001b[1;33m\u001b[0m\u001b[0m\n\u001b[1;32m--> 149\u001b[1;33m         \u001b[1;32mreturn\u001b[0m \u001b[0mmodel\u001b[0m\u001b[1;33m.\u001b[0m\u001b[0mfit\u001b[0m\u001b[1;33m(\u001b[0m\u001b[1;33m*\u001b[0m\u001b[0mfit_args\u001b[0m\u001b[1;33m,\u001b[0m \u001b[1;33m**\u001b[0m\u001b[0mfit_kwargs\u001b[0m\u001b[1;33m)\u001b[0m\u001b[1;33m\u001b[0m\u001b[1;33m\u001b[0m\u001b[0m\n\u001b[0m\u001b[0;32m    150\u001b[0m \u001b[1;33m\u001b[0m\u001b[0m\n\u001b[0;32m    151\u001b[0m     \u001b[1;32mdef\u001b[0m \u001b[0mrun_trial\u001b[0m\u001b[1;33m(\u001b[0m\u001b[0mself\u001b[0m\u001b[1;33m,\u001b[0m \u001b[0mtrial\u001b[0m\u001b[1;33m,\u001b[0m \u001b[1;33m*\u001b[0m\u001b[0mfit_args\u001b[0m\u001b[1;33m,\u001b[0m \u001b[1;33m**\u001b[0m\u001b[0mfit_kwargs\u001b[0m\u001b[1;33m)\u001b[0m\u001b[1;33m:\u001b[0m\u001b[1;33m\u001b[0m\u001b[1;33m\u001b[0m\u001b[0m\n",
      "\u001b[1;32m~\\AppData\\Roaming\\Python\\Python38\\site-packages\\keras\\engine\\training.py\u001b[0m in \u001b[0;36mfit\u001b[1;34m(self, x, y, batch_size, epochs, verbose, callbacks, validation_split, validation_data, shuffle, class_weight, sample_weight, initial_epoch, steps_per_epoch, validation_steps, validation_batch_size, validation_freq, max_queue_size, workers, use_multiprocessing)\u001b[0m\n\u001b[0;32m   1132\u001b[0m          \u001b[0mtraining_utils\u001b[0m\u001b[1;33m.\u001b[0m\u001b[0mRespectCompiledTrainableState\u001b[0m\u001b[1;33m(\u001b[0m\u001b[0mself\u001b[0m\u001b[1;33m)\u001b[0m\u001b[1;33m:\u001b[0m\u001b[1;33m\u001b[0m\u001b[1;33m\u001b[0m\u001b[0m\n\u001b[0;32m   1133\u001b[0m       \u001b[1;31m# Creates a `tf.data.Dataset` and handles batch and epoch iteration.\u001b[0m\u001b[1;33m\u001b[0m\u001b[1;33m\u001b[0m\u001b[1;33m\u001b[0m\u001b[0m\n\u001b[1;32m-> 1134\u001b[1;33m       data_handler = data_adapter.get_data_handler(\n\u001b[0m\u001b[0;32m   1135\u001b[0m           \u001b[0mx\u001b[0m\u001b[1;33m=\u001b[0m\u001b[0mx\u001b[0m\u001b[1;33m,\u001b[0m\u001b[1;33m\u001b[0m\u001b[1;33m\u001b[0m\u001b[0m\n\u001b[0;32m   1136\u001b[0m           \u001b[0my\u001b[0m\u001b[1;33m=\u001b[0m\u001b[0my\u001b[0m\u001b[1;33m,\u001b[0m\u001b[1;33m\u001b[0m\u001b[1;33m\u001b[0m\u001b[0m\n",
      "\u001b[1;32m~\\AppData\\Roaming\\Python\\Python38\\site-packages\\keras\\engine\\data_adapter.py\u001b[0m in \u001b[0;36mget_data_handler\u001b[1;34m(*args, **kwargs)\u001b[0m\n\u001b[0;32m   1381\u001b[0m   \u001b[1;32mif\u001b[0m \u001b[0mgetattr\u001b[0m\u001b[1;33m(\u001b[0m\u001b[0mkwargs\u001b[0m\u001b[1;33m[\u001b[0m\u001b[1;34m\"model\"\u001b[0m\u001b[1;33m]\u001b[0m\u001b[1;33m,\u001b[0m \u001b[1;34m\"_cluster_coordinator\"\u001b[0m\u001b[1;33m,\u001b[0m \u001b[1;32mNone\u001b[0m\u001b[1;33m)\u001b[0m\u001b[1;33m:\u001b[0m\u001b[1;33m\u001b[0m\u001b[1;33m\u001b[0m\u001b[0m\n\u001b[0;32m   1382\u001b[0m     \u001b[1;32mreturn\u001b[0m \u001b[0m_ClusterCoordinatorDataHandler\u001b[0m\u001b[1;33m(\u001b[0m\u001b[1;33m*\u001b[0m\u001b[0margs\u001b[0m\u001b[1;33m,\u001b[0m \u001b[1;33m**\u001b[0m\u001b[0mkwargs\u001b[0m\u001b[1;33m)\u001b[0m\u001b[1;33m\u001b[0m\u001b[1;33m\u001b[0m\u001b[0m\n\u001b[1;32m-> 1383\u001b[1;33m   \u001b[1;32mreturn\u001b[0m \u001b[0mDataHandler\u001b[0m\u001b[1;33m(\u001b[0m\u001b[1;33m*\u001b[0m\u001b[0margs\u001b[0m\u001b[1;33m,\u001b[0m \u001b[1;33m**\u001b[0m\u001b[0mkwargs\u001b[0m\u001b[1;33m)\u001b[0m\u001b[1;33m\u001b[0m\u001b[1;33m\u001b[0m\u001b[0m\n\u001b[0m\u001b[0;32m   1384\u001b[0m \u001b[1;33m\u001b[0m\u001b[0m\n\u001b[0;32m   1385\u001b[0m \u001b[1;33m\u001b[0m\u001b[0m\n",
      "\u001b[1;32m~\\AppData\\Roaming\\Python\\Python38\\site-packages\\keras\\engine\\data_adapter.py\u001b[0m in \u001b[0;36m__init__\u001b[1;34m(self, x, y, sample_weight, batch_size, steps_per_epoch, initial_epoch, epochs, shuffle, class_weight, max_queue_size, workers, use_multiprocessing, model, steps_per_execution, distribute)\u001b[0m\n\u001b[0;32m   1136\u001b[0m \u001b[1;33m\u001b[0m\u001b[0m\n\u001b[0;32m   1137\u001b[0m     \u001b[0madapter_cls\u001b[0m \u001b[1;33m=\u001b[0m \u001b[0mselect_data_adapter\u001b[0m\u001b[1;33m(\u001b[0m\u001b[0mx\u001b[0m\u001b[1;33m,\u001b[0m \u001b[0my\u001b[0m\u001b[1;33m)\u001b[0m\u001b[1;33m\u001b[0m\u001b[1;33m\u001b[0m\u001b[0m\n\u001b[1;32m-> 1138\u001b[1;33m     self._adapter = adapter_cls(\n\u001b[0m\u001b[0;32m   1139\u001b[0m         \u001b[0mx\u001b[0m\u001b[1;33m,\u001b[0m\u001b[1;33m\u001b[0m\u001b[1;33m\u001b[0m\u001b[0m\n\u001b[0;32m   1140\u001b[0m         \u001b[0my\u001b[0m\u001b[1;33m,\u001b[0m\u001b[1;33m\u001b[0m\u001b[1;33m\u001b[0m\u001b[0m\n",
      "\u001b[1;32m~\\AppData\\Roaming\\Python\\Python38\\site-packages\\keras\\engine\\data_adapter.py\u001b[0m in \u001b[0;36m__init__\u001b[1;34m(self, x, y, sample_weights, sample_weight_modes, batch_size, epochs, steps, shuffle, **kwargs)\u001b[0m\n\u001b[0;32m    320\u001b[0m     \u001b[0mindices_dataset\u001b[0m \u001b[1;33m=\u001b[0m \u001b[0mindices_dataset\u001b[0m\u001b[1;33m.\u001b[0m\u001b[0mflat_map\u001b[0m\u001b[1;33m(\u001b[0m\u001b[0mslice_batch_indices\u001b[0m\u001b[1;33m)\u001b[0m\u001b[1;33m\u001b[0m\u001b[1;33m\u001b[0m\u001b[0m\n\u001b[0;32m    321\u001b[0m \u001b[1;33m\u001b[0m\u001b[0m\n\u001b[1;32m--> 322\u001b[1;33m     \u001b[0mdataset\u001b[0m \u001b[1;33m=\u001b[0m \u001b[0mself\u001b[0m\u001b[1;33m.\u001b[0m\u001b[0mslice_inputs\u001b[0m\u001b[1;33m(\u001b[0m\u001b[0mindices_dataset\u001b[0m\u001b[1;33m,\u001b[0m \u001b[0minputs\u001b[0m\u001b[1;33m)\u001b[0m\u001b[1;33m\u001b[0m\u001b[1;33m\u001b[0m\u001b[0m\n\u001b[0m\u001b[0;32m    323\u001b[0m \u001b[1;33m\u001b[0m\u001b[0m\n\u001b[0;32m    324\u001b[0m     \u001b[1;32mif\u001b[0m \u001b[0mshuffle\u001b[0m \u001b[1;33m==\u001b[0m \u001b[1;34m\"batch\"\u001b[0m\u001b[1;33m:\u001b[0m\u001b[1;33m\u001b[0m\u001b[1;33m\u001b[0m\u001b[0m\n",
      "\u001b[1;32m~\\AppData\\Roaming\\Python\\Python38\\site-packages\\keras\\engine\\data_adapter.py\u001b[0m in \u001b[0;36mslice_inputs\u001b[1;34m(self, indices_dataset, inputs)\u001b[0m\n\u001b[0;32m    346\u001b[0m     dataset = tf.data.Dataset.zip((\n\u001b[0;32m    347\u001b[0m         \u001b[0mindices_dataset\u001b[0m\u001b[1;33m,\u001b[0m\u001b[1;33m\u001b[0m\u001b[1;33m\u001b[0m\u001b[0m\n\u001b[1;32m--> 348\u001b[1;33m         \u001b[0mtf\u001b[0m\u001b[1;33m.\u001b[0m\u001b[0mdata\u001b[0m\u001b[1;33m.\u001b[0m\u001b[0mDataset\u001b[0m\u001b[1;33m.\u001b[0m\u001b[0mfrom_tensors\u001b[0m\u001b[1;33m(\u001b[0m\u001b[0minputs\u001b[0m\u001b[1;33m)\u001b[0m\u001b[1;33m.\u001b[0m\u001b[0mrepeat\u001b[0m\u001b[1;33m(\u001b[0m\u001b[1;33m)\u001b[0m\u001b[1;33m\u001b[0m\u001b[1;33m\u001b[0m\u001b[0m\n\u001b[0m\u001b[0;32m    349\u001b[0m     ))\n\u001b[0;32m    350\u001b[0m \u001b[1;33m\u001b[0m\u001b[0m\n",
      "\u001b[1;32m~\\AppData\\Roaming\\Python\\Python38\\site-packages\\tensorflow\\python\\data\\ops\\dataset_ops.py\u001b[0m in \u001b[0;36mfrom_tensors\u001b[1;34m(tensors)\u001b[0m\n\u001b[0;32m    604\u001b[0m       \u001b[0mDataset\u001b[0m\u001b[1;33m:\u001b[0m \u001b[0mA\u001b[0m\u001b[0;31m \u001b[0m\u001b[0;31m`\u001b[0m\u001b[0mDataset\u001b[0m\u001b[0;31m`\u001b[0m\u001b[1;33m.\u001b[0m\u001b[1;33m\u001b[0m\u001b[1;33m\u001b[0m\u001b[0m\n\u001b[0;32m    605\u001b[0m     \"\"\"\n\u001b[1;32m--> 606\u001b[1;33m     \u001b[1;32mreturn\u001b[0m \u001b[0mTensorDataset\u001b[0m\u001b[1;33m(\u001b[0m\u001b[0mtensors\u001b[0m\u001b[1;33m)\u001b[0m\u001b[1;33m\u001b[0m\u001b[1;33m\u001b[0m\u001b[0m\n\u001b[0m\u001b[0;32m    607\u001b[0m \u001b[1;33m\u001b[0m\u001b[0m\n\u001b[0;32m    608\u001b[0m   \u001b[1;33m@\u001b[0m\u001b[0mstaticmethod\u001b[0m\u001b[1;33m\u001b[0m\u001b[1;33m\u001b[0m\u001b[0m\n",
      "\u001b[1;32m~\\AppData\\Roaming\\Python\\Python38\\site-packages\\tensorflow\\python\\data\\ops\\dataset_ops.py\u001b[0m in \u001b[0;36m__init__\u001b[1;34m(self, element)\u001b[0m\n\u001b[0;32m   3823\u001b[0m   \u001b[1;32mdef\u001b[0m \u001b[0m__init__\u001b[0m\u001b[1;33m(\u001b[0m\u001b[0mself\u001b[0m\u001b[1;33m,\u001b[0m \u001b[0melement\u001b[0m\u001b[1;33m)\u001b[0m\u001b[1;33m:\u001b[0m\u001b[1;33m\u001b[0m\u001b[1;33m\u001b[0m\u001b[0m\n\u001b[0;32m   3824\u001b[0m     \u001b[1;34m\"\"\"See `Dataset.from_tensors()` for details.\"\"\"\u001b[0m\u001b[1;33m\u001b[0m\u001b[1;33m\u001b[0m\u001b[0m\n\u001b[1;32m-> 3825\u001b[1;33m     \u001b[0melement\u001b[0m \u001b[1;33m=\u001b[0m \u001b[0mstructure\u001b[0m\u001b[1;33m.\u001b[0m\u001b[0mnormalize_element\u001b[0m\u001b[1;33m(\u001b[0m\u001b[0melement\u001b[0m\u001b[1;33m)\u001b[0m\u001b[1;33m\u001b[0m\u001b[1;33m\u001b[0m\u001b[0m\n\u001b[0m\u001b[0;32m   3826\u001b[0m     \u001b[0mself\u001b[0m\u001b[1;33m.\u001b[0m\u001b[0m_structure\u001b[0m \u001b[1;33m=\u001b[0m \u001b[0mstructure\u001b[0m\u001b[1;33m.\u001b[0m\u001b[0mtype_spec_from_value\u001b[0m\u001b[1;33m(\u001b[0m\u001b[0melement\u001b[0m\u001b[1;33m)\u001b[0m\u001b[1;33m\u001b[0m\u001b[1;33m\u001b[0m\u001b[0m\n\u001b[0;32m   3827\u001b[0m     \u001b[0mself\u001b[0m\u001b[1;33m.\u001b[0m\u001b[0m_tensors\u001b[0m \u001b[1;33m=\u001b[0m \u001b[0mstructure\u001b[0m\u001b[1;33m.\u001b[0m\u001b[0mto_tensor_list\u001b[0m\u001b[1;33m(\u001b[0m\u001b[0mself\u001b[0m\u001b[1;33m.\u001b[0m\u001b[0m_structure\u001b[0m\u001b[1;33m,\u001b[0m \u001b[0melement\u001b[0m\u001b[1;33m)\u001b[0m\u001b[1;33m\u001b[0m\u001b[1;33m\u001b[0m\u001b[0m\n",
      "\u001b[1;32m~\\AppData\\Roaming\\Python\\Python38\\site-packages\\tensorflow\\python\\data\\util\\structure.py\u001b[0m in \u001b[0;36mnormalize_element\u001b[1;34m(element, element_signature)\u001b[0m\n\u001b[0;32m    109\u001b[0m         \u001b[1;31m# the value. As a fallback try converting the value to a tensor.\u001b[0m\u001b[1;33m\u001b[0m\u001b[1;33m\u001b[0m\u001b[1;33m\u001b[0m\u001b[0m\n\u001b[0;32m    110\u001b[0m         normalized_components.append(\n\u001b[1;32m--> 111\u001b[1;33m             ops.convert_to_tensor(t, name=\"component_%d\" % i))\n\u001b[0m\u001b[0;32m    112\u001b[0m       \u001b[1;32melse\u001b[0m\u001b[1;33m:\u001b[0m\u001b[1;33m\u001b[0m\u001b[1;33m\u001b[0m\u001b[0m\n\u001b[0;32m    113\u001b[0m         \u001b[1;32mif\u001b[0m \u001b[0misinstance\u001b[0m\u001b[1;33m(\u001b[0m\u001b[0mspec\u001b[0m\u001b[1;33m,\u001b[0m \u001b[0msparse_tensor\u001b[0m\u001b[1;33m.\u001b[0m\u001b[0mSparseTensorSpec\u001b[0m\u001b[1;33m)\u001b[0m\u001b[1;33m:\u001b[0m\u001b[1;33m\u001b[0m\u001b[1;33m\u001b[0m\u001b[0m\n",
      "\u001b[1;32m~\\AppData\\Roaming\\Python\\Python38\\site-packages\\tensorflow\\python\\profiler\\trace.py\u001b[0m in \u001b[0;36mwrapped\u001b[1;34m(*args, **kwargs)\u001b[0m\n\u001b[0;32m    161\u001b[0m         \u001b[1;32mwith\u001b[0m \u001b[0mTrace\u001b[0m\u001b[1;33m(\u001b[0m\u001b[0mtrace_name\u001b[0m\u001b[1;33m,\u001b[0m \u001b[1;33m**\u001b[0m\u001b[0mtrace_kwargs\u001b[0m\u001b[1;33m)\u001b[0m\u001b[1;33m:\u001b[0m\u001b[1;33m\u001b[0m\u001b[1;33m\u001b[0m\u001b[0m\n\u001b[0;32m    162\u001b[0m           \u001b[1;32mreturn\u001b[0m \u001b[0mfunc\u001b[0m\u001b[1;33m(\u001b[0m\u001b[1;33m*\u001b[0m\u001b[0margs\u001b[0m\u001b[1;33m,\u001b[0m \u001b[1;33m**\u001b[0m\u001b[0mkwargs\u001b[0m\u001b[1;33m)\u001b[0m\u001b[1;33m\u001b[0m\u001b[1;33m\u001b[0m\u001b[0m\n\u001b[1;32m--> 163\u001b[1;33m       \u001b[1;32mreturn\u001b[0m \u001b[0mfunc\u001b[0m\u001b[1;33m(\u001b[0m\u001b[1;33m*\u001b[0m\u001b[0margs\u001b[0m\u001b[1;33m,\u001b[0m \u001b[1;33m**\u001b[0m\u001b[0mkwargs\u001b[0m\u001b[1;33m)\u001b[0m\u001b[1;33m\u001b[0m\u001b[1;33m\u001b[0m\u001b[0m\n\u001b[0m\u001b[0;32m    164\u001b[0m \u001b[1;33m\u001b[0m\u001b[0m\n\u001b[0;32m    165\u001b[0m     \u001b[1;32mreturn\u001b[0m \u001b[0mwrapped\u001b[0m\u001b[1;33m\u001b[0m\u001b[1;33m\u001b[0m\u001b[0m\n",
      "\u001b[1;32m~\\AppData\\Roaming\\Python\\Python38\\site-packages\\tensorflow\\python\\framework\\ops.py\u001b[0m in \u001b[0;36mconvert_to_tensor\u001b[1;34m(value, dtype, name, as_ref, preferred_dtype, dtype_hint, ctx, accepted_result_types)\u001b[0m\n\u001b[0;32m   1564\u001b[0m \u001b[1;33m\u001b[0m\u001b[0m\n\u001b[0;32m   1565\u001b[0m     \u001b[1;32mif\u001b[0m \u001b[0mret\u001b[0m \u001b[1;32mis\u001b[0m \u001b[1;32mNone\u001b[0m\u001b[1;33m:\u001b[0m\u001b[1;33m\u001b[0m\u001b[1;33m\u001b[0m\u001b[0m\n\u001b[1;32m-> 1566\u001b[1;33m       \u001b[0mret\u001b[0m \u001b[1;33m=\u001b[0m \u001b[0mconversion_func\u001b[0m\u001b[1;33m(\u001b[0m\u001b[0mvalue\u001b[0m\u001b[1;33m,\u001b[0m \u001b[0mdtype\u001b[0m\u001b[1;33m=\u001b[0m\u001b[0mdtype\u001b[0m\u001b[1;33m,\u001b[0m \u001b[0mname\u001b[0m\u001b[1;33m=\u001b[0m\u001b[0mname\u001b[0m\u001b[1;33m,\u001b[0m \u001b[0mas_ref\u001b[0m\u001b[1;33m=\u001b[0m\u001b[0mas_ref\u001b[0m\u001b[1;33m)\u001b[0m\u001b[1;33m\u001b[0m\u001b[1;33m\u001b[0m\u001b[0m\n\u001b[0m\u001b[0;32m   1567\u001b[0m \u001b[1;33m\u001b[0m\u001b[0m\n\u001b[0;32m   1568\u001b[0m     \u001b[1;32mif\u001b[0m \u001b[0mret\u001b[0m \u001b[1;32mis\u001b[0m \u001b[0mNotImplemented\u001b[0m\u001b[1;33m:\u001b[0m\u001b[1;33m\u001b[0m\u001b[1;33m\u001b[0m\u001b[0m\n",
      "\u001b[1;32m~\\AppData\\Roaming\\Python\\Python38\\site-packages\\tensorflow\\python\\framework\\constant_op.py\u001b[0m in \u001b[0;36m_constant_tensor_conversion_function\u001b[1;34m(v, dtype, name, as_ref)\u001b[0m\n\u001b[0;32m    344\u001b[0m                                          as_ref=False):\n\u001b[0;32m    345\u001b[0m   \u001b[0m_\u001b[0m \u001b[1;33m=\u001b[0m \u001b[0mas_ref\u001b[0m\u001b[1;33m\u001b[0m\u001b[1;33m\u001b[0m\u001b[0m\n\u001b[1;32m--> 346\u001b[1;33m   \u001b[1;32mreturn\u001b[0m \u001b[0mconstant\u001b[0m\u001b[1;33m(\u001b[0m\u001b[0mv\u001b[0m\u001b[1;33m,\u001b[0m \u001b[0mdtype\u001b[0m\u001b[1;33m=\u001b[0m\u001b[0mdtype\u001b[0m\u001b[1;33m,\u001b[0m \u001b[0mname\u001b[0m\u001b[1;33m=\u001b[0m\u001b[0mname\u001b[0m\u001b[1;33m)\u001b[0m\u001b[1;33m\u001b[0m\u001b[1;33m\u001b[0m\u001b[0m\n\u001b[0m\u001b[0;32m    347\u001b[0m \u001b[1;33m\u001b[0m\u001b[0m\n\u001b[0;32m    348\u001b[0m \u001b[1;33m\u001b[0m\u001b[0m\n",
      "\u001b[1;32m~\\AppData\\Roaming\\Python\\Python38\\site-packages\\tensorflow\\python\\framework\\constant_op.py\u001b[0m in \u001b[0;36mconstant\u001b[1;34m(value, dtype, shape, name)\u001b[0m\n\u001b[0;32m    269\u001b[0m     \u001b[0mValueError\u001b[0m\u001b[1;33m:\u001b[0m \u001b[1;32mif\u001b[0m \u001b[0mcalled\u001b[0m \u001b[0mon\u001b[0m \u001b[0ma\u001b[0m \u001b[0msymbolic\u001b[0m \u001b[0mtensor\u001b[0m\u001b[1;33m.\u001b[0m\u001b[1;33m\u001b[0m\u001b[1;33m\u001b[0m\u001b[0m\n\u001b[0;32m    270\u001b[0m   \"\"\"\n\u001b[1;32m--> 271\u001b[1;33m   return _constant_impl(value, dtype, shape, name, verify_shape=False,\n\u001b[0m\u001b[0;32m    272\u001b[0m                         allow_broadcast=True)\n\u001b[0;32m    273\u001b[0m \u001b[1;33m\u001b[0m\u001b[0m\n",
      "\u001b[1;32m~\\AppData\\Roaming\\Python\\Python38\\site-packages\\tensorflow\\python\\framework\\constant_op.py\u001b[0m in \u001b[0;36m_constant_impl\u001b[1;34m(value, dtype, shape, name, verify_shape, allow_broadcast)\u001b[0m\n\u001b[0;32m    281\u001b[0m       \u001b[1;32mwith\u001b[0m \u001b[0mtrace\u001b[0m\u001b[1;33m.\u001b[0m\u001b[0mTrace\u001b[0m\u001b[1;33m(\u001b[0m\u001b[1;34m\"tf.constant\"\u001b[0m\u001b[1;33m)\u001b[0m\u001b[1;33m:\u001b[0m\u001b[1;33m\u001b[0m\u001b[1;33m\u001b[0m\u001b[0m\n\u001b[0;32m    282\u001b[0m         \u001b[1;32mreturn\u001b[0m \u001b[0m_constant_eager_impl\u001b[0m\u001b[1;33m(\u001b[0m\u001b[0mctx\u001b[0m\u001b[1;33m,\u001b[0m \u001b[0mvalue\u001b[0m\u001b[1;33m,\u001b[0m \u001b[0mdtype\u001b[0m\u001b[1;33m,\u001b[0m \u001b[0mshape\u001b[0m\u001b[1;33m,\u001b[0m \u001b[0mverify_shape\u001b[0m\u001b[1;33m)\u001b[0m\u001b[1;33m\u001b[0m\u001b[1;33m\u001b[0m\u001b[0m\n\u001b[1;32m--> 283\u001b[1;33m     \u001b[1;32mreturn\u001b[0m \u001b[0m_constant_eager_impl\u001b[0m\u001b[1;33m(\u001b[0m\u001b[0mctx\u001b[0m\u001b[1;33m,\u001b[0m \u001b[0mvalue\u001b[0m\u001b[1;33m,\u001b[0m \u001b[0mdtype\u001b[0m\u001b[1;33m,\u001b[0m \u001b[0mshape\u001b[0m\u001b[1;33m,\u001b[0m \u001b[0mverify_shape\u001b[0m\u001b[1;33m)\u001b[0m\u001b[1;33m\u001b[0m\u001b[1;33m\u001b[0m\u001b[0m\n\u001b[0m\u001b[0;32m    284\u001b[0m \u001b[1;33m\u001b[0m\u001b[0m\n\u001b[0;32m    285\u001b[0m   \u001b[0mg\u001b[0m \u001b[1;33m=\u001b[0m \u001b[0mops\u001b[0m\u001b[1;33m.\u001b[0m\u001b[0mget_default_graph\u001b[0m\u001b[1;33m(\u001b[0m\u001b[1;33m)\u001b[0m\u001b[1;33m\u001b[0m\u001b[1;33m\u001b[0m\u001b[0m\n",
      "\u001b[1;32m~\\AppData\\Roaming\\Python\\Python38\\site-packages\\tensorflow\\python\\framework\\constant_op.py\u001b[0m in \u001b[0;36m_constant_eager_impl\u001b[1;34m(ctx, value, dtype, shape, verify_shape)\u001b[0m\n\u001b[0;32m    306\u001b[0m \u001b[1;32mdef\u001b[0m \u001b[0m_constant_eager_impl\u001b[0m\u001b[1;33m(\u001b[0m\u001b[0mctx\u001b[0m\u001b[1;33m,\u001b[0m \u001b[0mvalue\u001b[0m\u001b[1;33m,\u001b[0m \u001b[0mdtype\u001b[0m\u001b[1;33m,\u001b[0m \u001b[0mshape\u001b[0m\u001b[1;33m,\u001b[0m \u001b[0mverify_shape\u001b[0m\u001b[1;33m)\u001b[0m\u001b[1;33m:\u001b[0m\u001b[1;33m\u001b[0m\u001b[1;33m\u001b[0m\u001b[0m\n\u001b[0;32m    307\u001b[0m   \u001b[1;34m\"\"\"Creates a constant on the current device.\"\"\"\u001b[0m\u001b[1;33m\u001b[0m\u001b[1;33m\u001b[0m\u001b[0m\n\u001b[1;32m--> 308\u001b[1;33m   \u001b[0mt\u001b[0m \u001b[1;33m=\u001b[0m \u001b[0mconvert_to_eager_tensor\u001b[0m\u001b[1;33m(\u001b[0m\u001b[0mvalue\u001b[0m\u001b[1;33m,\u001b[0m \u001b[0mctx\u001b[0m\u001b[1;33m,\u001b[0m \u001b[0mdtype\u001b[0m\u001b[1;33m)\u001b[0m\u001b[1;33m\u001b[0m\u001b[1;33m\u001b[0m\u001b[0m\n\u001b[0m\u001b[0;32m    309\u001b[0m   \u001b[1;32mif\u001b[0m \u001b[0mshape\u001b[0m \u001b[1;32mis\u001b[0m \u001b[1;32mNone\u001b[0m\u001b[1;33m:\u001b[0m\u001b[1;33m\u001b[0m\u001b[1;33m\u001b[0m\u001b[0m\n\u001b[0;32m    310\u001b[0m     \u001b[1;32mreturn\u001b[0m \u001b[0mt\u001b[0m\u001b[1;33m\u001b[0m\u001b[1;33m\u001b[0m\u001b[0m\n",
      "\u001b[1;32m~\\AppData\\Roaming\\Python\\Python38\\site-packages\\tensorflow\\python\\framework\\constant_op.py\u001b[0m in \u001b[0;36mconvert_to_eager_tensor\u001b[1;34m(value, ctx, dtype)\u001b[0m\n\u001b[0;32m    104\u001b[0m       \u001b[0mdtype\u001b[0m \u001b[1;33m=\u001b[0m \u001b[0mdtypes\u001b[0m\u001b[1;33m.\u001b[0m\u001b[0mas_dtype\u001b[0m\u001b[1;33m(\u001b[0m\u001b[0mdtype\u001b[0m\u001b[1;33m)\u001b[0m\u001b[1;33m.\u001b[0m\u001b[0mas_datatype_enum\u001b[0m\u001b[1;33m\u001b[0m\u001b[1;33m\u001b[0m\u001b[0m\n\u001b[0;32m    105\u001b[0m   \u001b[0mctx\u001b[0m\u001b[1;33m.\u001b[0m\u001b[0mensure_initialized\u001b[0m\u001b[1;33m(\u001b[0m\u001b[1;33m)\u001b[0m\u001b[1;33m\u001b[0m\u001b[1;33m\u001b[0m\u001b[0m\n\u001b[1;32m--> 106\u001b[1;33m   \u001b[1;32mreturn\u001b[0m \u001b[0mops\u001b[0m\u001b[1;33m.\u001b[0m\u001b[0mEagerTensor\u001b[0m\u001b[1;33m(\u001b[0m\u001b[0mvalue\u001b[0m\u001b[1;33m,\u001b[0m \u001b[0mctx\u001b[0m\u001b[1;33m.\u001b[0m\u001b[0mdevice_name\u001b[0m\u001b[1;33m,\u001b[0m \u001b[0mdtype\u001b[0m\u001b[1;33m)\u001b[0m\u001b[1;33m\u001b[0m\u001b[1;33m\u001b[0m\u001b[0m\n\u001b[0m\u001b[0;32m    107\u001b[0m \u001b[1;33m\u001b[0m\u001b[0m\n\u001b[0;32m    108\u001b[0m \u001b[1;33m\u001b[0m\u001b[0m\n",
      "\u001b[1;31mValueError\u001b[0m: Failed to convert a NumPy array to a Tensor (Unsupported object type int)."
     ]
    }
   ],
   "source": [
    "msle = MeanSquaredLogarithmicError()\n",
    "\n",
    "def model_builder(hp):\n",
    "    '''\n",
    "    Args:\n",
    "    hp - Keras tuner object\n",
    "    '''\n",
    "    # Initialize the Sequential API and start stacking the layers\n",
    "    model = keras.Sequential()\n",
    "    model.add(keras.layers.Flatten(input_shape=(28, 28)))\n",
    "    # Tune the number of units in the first Dense layer\n",
    "    # Choose an optimal value between 32-512\n",
    "    hp_units = hp.Int('units', min_value=32, max_value=512, step=32)\n",
    "    model.add(keras.layers.Dense(units=hp_units, activation='relu', name='dense_1'))\n",
    "    # Add next layers\n",
    "    model.add(keras.layers.Dropout(0.2))\n",
    "    model.add(keras.layers.Dense(10, activation='softmax'))\n",
    "    # Tune the learning rate for the optimizer\n",
    "    # Choose an optimal value from 0.01, 0.001, or 0.0001\n",
    "    hp_learning_rate = hp.Choice('learning_rate', values=[1e-2, 1e-3, 1e-4])\n",
    "    model.compile(optimizer=keras.optimizers.Adam(learning_rate=hp_learning_rate),\n",
    "                loss=keras.losses.SparseCategoricalCrossentropy(),\n",
    "                metrics=['accuracy'])\n",
    "    return model\n",
    "def build_model(hp):\n",
    "    model = tf.keras.Sequential()\n",
    "\n",
    "    # Tune the number of units in the first Dense layer\n",
    "    # Choose an optimal value between 32-512\n",
    "    hp_units1 = hp.Int('units1', min_value=32, max_value=512, step=32)\n",
    "    hp_units2 = hp.Int('units2', min_value=32, max_value=512, step=32)\n",
    "    hp_units3 = hp.Int('units3', min_value=32, max_value=512, step=32)\n",
    "    model.add(Dense(units=hp_units1, activation='relu'))\n",
    "    model.add(tf.keras.layers.Dense(units=hp_units2, activation='relu'))\n",
    "    model.add(tf.keras.layers.Dense(units=hp_units3, activation='relu'))\n",
    "    model.add(Dense(1, kernel_initializer='normal', activation='linear'))\n",
    "\n",
    "    # Tune the learning rate for the optimizer\n",
    "    # Choose an optimal value from 0.01, 0.001, or 0.0001\n",
    "    hp_learning_rate = hp.Choice('learning_rate', values=[1e-2, 1e-3, 1e-4])\n",
    "\n",
    "    model.compile(\n",
    "      optimizer=tf.keras.optimizers.Adam(learning_rate=hp_learning_rate),\n",
    "      loss=msle,\n",
    "      metrics=[msle]\n",
    "    )\n",
    "\n",
    "    return model\n",
    "\n",
    "# HyperBand algorithm from keras tuner\n",
    "tuner = kt.Hyperband(\n",
    "    build_model,\n",
    "    objective='val_mean_squared_logarithmic_error',\n",
    "    max_epochs=10,\n",
    "    directory='keras_tuner_dir',\n",
    "    project_name='keras_tuner_demo'\n",
    ")\n",
    "\n",
    "tuner.search(x_train, y_train, epochs=10, validation_split=0.2)"
   ]
  },
  {
   "cell_type": "code",
   "execution_count": null,
   "id": "ff4f468f-9ce0-4453-9365-090656ea508b",
   "metadata": {},
   "outputs": [],
   "source": [
    "# for h_param in [f\"units{i}\" for i in range(1,4)] + ['learning_rate']:\n",
    "#     print(h_param, tuner.get_best_hyperparameters()[0].get(h_param))"
   ]
  },
  {
   "cell_type": "code",
   "execution_count": null,
   "id": "f94d89d3-9d5b-4d63-bb1e-2898a7d3b6a4",
   "metadata": {},
   "outputs": [],
   "source": []
  },
  {
   "cell_type": "code",
   "execution_count": null,
   "id": "ec1117a4-ae1a-4cd7-bfa0-e5119553960b",
   "metadata": {},
   "outputs": [],
   "source": []
  },
  {
   "cell_type": "code",
   "execution_count": null,
   "id": "00c28c40-6ae2-4e50-9618-fc6f6b3c75c2",
   "metadata": {},
   "outputs": [],
   "source": []
  },
  {
   "cell_type": "markdown",
   "id": "00107f4d-006c-41c9-b693-c75c37dfb7a7",
   "metadata": {},
   "source": [
    "# CATBOOST"
   ]
  },
  {
   "cell_type": "code",
   "execution_count": 26,
   "id": "b05a37c3-a9c5-497a-924f-51a75d7b8914",
   "metadata": {},
   "outputs": [],
   "source": [
    "# from sklearn.model_selection import train_test_split\n",
    "# from sklearn.metrics import mean_squared_error\n",
    "# import optuna"
   ]
  },
  {
   "cell_type": "code",
   "execution_count": null,
   "id": "d85393c5-82ed-4575-af27-48c611edaf4f",
   "metadata": {},
   "outputs": [],
   "source": [
    "# SAMPLE_RATE = 0.4\n",
    "# RANDOM_SEED = 1\n",
    "# EARLY_STOPPING_ROUND = 100\n",
    "# X_train, X_valid, y_train, y_valid = train_test_split(X, y, test_size=0.2, random_state=RANDOM_SEED)\n",
    "# X_train, X_eval, y_train, y_eval = train_test_split(X_train, y_train, test_size=0.1, random_state=RANDOM_SEED)"
   ]
  },
  {
   "cell_type": "code",
   "execution_count": null,
   "id": "ead3c5f4-ec1a-4823-ae31-63b772459a90",
   "metadata": {},
   "outputs": [],
   "source": [
    "# def objective(trial):\n",
    "#     param = {}\n",
    "#     param['learning_rate'] = trial.suggest_discrete_uniform(\"learning_rate\", 0.001, 0.02, 0.001)\n",
    "#     param['depth'] = trial.suggest_int('depth', 9, 15)\n",
    "#     param['l2_leaf_reg'] = trial.suggest_discrete_uniform('l2_leaf_reg', 1.0, 5.5, 0.5)\n",
    "#     param['min_child_samples'] = trial.suggest_categorical('min_child_samples', [1, 4, 8, 16, 32])\n",
    "#     param['grow_policy'] = 'Depthwise'\n",
    "#     param['iterations'] = 10000\n",
    "#     param['use_best_model'] = True\n",
    "#     param['eval_metric'] = 'RMSE'\n",
    "#     param['od_type'] = 'iter'\n",
    "#     param['od_wait'] = 20\n",
    "#     param['random_state'] = RANDOM_SEED\n",
    "#     param['logging_level'] = 'Silent'\n",
    "    \n",
    "#     regressor = CatBoostRegressor(**param)\n",
    "\n",
    "#     regressor.fit(X_train.copy(), y_train.copy(),\n",
    "#                   eval_set=[(X_eval.copy(), y_eval.copy())],\n",
    "#                   early_stopping_rounds=EARLY_STOPPING_ROUND)\n",
    "#     loss = mean_squared_error(y_valid, regressor.predict(X_valid.copy()))\n",
    "#     return loss\n",
    "    "
   ]
  },
  {
   "cell_type": "code",
   "execution_count": null,
   "id": "7e0d5416-ee12-43de-b8c5-ce7d5c23d2ed",
   "metadata": {},
   "outputs": [],
   "source": [
    "# %%time\n",
    "# import warnings\n",
    "# warnings.filterwarnings('ignore')\n",
    "# study = optuna.create_study(study_name=f'catboost-seed{RANDOM_SEED}')\n",
    "# study.optimize(objective, n_trials=10, n_jobs=-1, timeout=24000)"
   ]
  },
  {
   "cell_type": "code",
   "execution_count": null,
   "id": "b5f7f5c1-8253-43d3-b5f2-06e13880fbd2",
   "metadata": {},
   "outputs": [],
   "source": [
    "# study.best_value"
   ]
  },
  {
   "cell_type": "code",
   "execution_count": null,
   "id": "d6cbbe8d-a0d3-420e-9785-7f7022efffe3",
   "metadata": {},
   "outputs": [],
   "source": [
    "# study.best_params"
   ]
  },
  {
   "cell_type": "code",
   "execution_count": null,
   "id": "bc40b09a-858d-4f60-b00c-8513f725e1c7",
   "metadata": {},
   "outputs": [],
   "source": [
    "# optuna.visualization.plot_optimization_history(study)"
   ]
  },
  {
   "cell_type": "code",
   "execution_count": null,
   "id": "074a1d11-b940-4bec-a920-a5d0595be53d",
   "metadata": {},
   "outputs": [],
   "source": [
    "# optuna.visualization.plot_slice(study)"
   ]
  },
  {
   "cell_type": "code",
   "execution_count": null,
   "id": "9705fb9c-c9a9-43ff-96a1-cbe5e285e2e3",
   "metadata": {},
   "outputs": [],
   "source": [
    "# optuna.visualization.plot_contour(study, params=['learning_rate',\n",
    "#                                                  'min_child_samples',\n",
    "#                                                  'depth',\n",
    "#                                                  'l2_leaf_reg'])"
   ]
  },
  {
   "cell_type": "code",
   "execution_count": null,
   "id": "5a7b251f-52ae-4502-9bf2-d099b450aa64",
   "metadata": {},
   "outputs": [],
   "source": [
    "# optuna.visualization.plot_param_importances(study)"
   ]
  },
  {
   "cell_type": "code",
   "execution_count": null,
   "id": "c1a097e3-c848-4e6b-92e9-db13f2e278a0",
   "metadata": {},
   "outputs": [],
   "source": [
    "# optuna.visualization.plot_edf(study)"
   ]
  },
  {
   "cell_type": "code",
   "execution_count": null,
   "id": "35eb04ba-c5fb-4f92-93e2-3f5dee5808f4",
   "metadata": {},
   "outputs": [],
   "source": [
    "# %%time\n",
    "# optimized_regressor = CatBoostRegressor(learning_rate=study.best_params['learning_rate'],\n",
    "#                                         depth=study.best_params['depth'],\n",
    "#                                         l2_leaf_reg=study.best_params['l2_leaf_reg'],\n",
    "#                                         min_child_samples=study.best_params['min_child_samples'],\n",
    "#                                         grow_policy='Depthwise',\n",
    "#                                         iterations=10000,\n",
    "#                                         use_best_model=True,\n",
    "#                                         eval_metric='RMSE',\n",
    "#                                         od_type='iter',\n",
    "#                                         od_wait=20,\n",
    "#                                         random_state=RANDOM_SEED,\n",
    "#                                         logging_level='Silent')\n",
    "# optimized_regressor.fit(X_train.copy(), y_train.copy(),\n",
    "#                         eval_set=[(X_eval.copy(), y_eval.copy())],\n",
    "#                         early_stopping_rounds=EARLY_STOPPING_ROUND)\n",
    "# pred_train = optimized_regressor.predict(X_train.copy())\n",
    "# pred_valid = optimized_regressor.predict(X_valid.copy())"
   ]
  },
  {
   "cell_type": "code",
   "execution_count": 27,
   "id": "208f8832-d991-4330-abb3-cf2bb9cb1a94",
   "metadata": {},
   "outputs": [],
   "source": [
    "catboost = CatBoostRegressor(\n",
    "    n_estimators=64,\n",
    "    learning_rate=0.427912392471475789,\n",
    "    depth=8,\n",
    "    bagging_temperature=0.1080748346321565,\n",
    "    border_count = 210,\n",
    "    l2_leaf_reg = 10,\n",
    "    random_strength = 5.03391369357891e-09,\n",
    "    cat_features=var_categ,\n",
    "    thread_count=-1,\n",
    "    silent=True\n",
    ")"
   ]
  },
  {
   "cell_type": "code",
   "execution_count": 29,
   "id": "41eedb69-b8dd-46e6-810c-aaa763d09014",
   "metadata": {},
   "outputs": [],
   "source": [
    "testX = beer_test.drop(['id','Date'], axis=1)\n",
    "if 'Sales' in testX.columns:\n",
    "    testX = testX.drop(['Sales'], axis=1)\n",
    "\n",
    "#Now all data\n",
    "catboost.fit(X,y)\n",
    "catboost_prediction = catboost.predict(testX)\n",
    "\n",
    "beer_test['Sales'] = catboost_prediction\n",
    "beer_test = beer_test.sort_values(by=['id'])\n",
    "\n",
    "beer_test[['id','Sales']].to_csv(\"data/results_catboost.csv\", index=False)"
   ]
  },
  {
   "cell_type": "markdown",
   "id": "954a1150-6064-46dc-a8c1-8458a10d9275",
   "metadata": {},
   "source": [
    "# LGBM"
   ]
  },
  {
   "cell_type": "code",
   "execution_count": null,
   "id": "0c766966-e455-451a-bf07-3cc09d11ea00",
   "metadata": {},
   "outputs": [],
   "source": [
    "# train_x,test_x,train_y,test_y = train_test_split(X,y,test_size=0.33,random_state=42)"
   ]
  },
  {
   "cell_type": "code",
   "execution_count": null,
   "id": "16e7fefc-5019-4dc2-a78f-f82a2445b34d",
   "metadata": {},
   "outputs": [],
   "source": [
    "# %%time\n",
    "# from lightgbm import LGBMRegressor\n",
    "# import optuna\n",
    "# from sklearn.metrics import mean_squared_error\n",
    "# # from optuna.integration.lightgbm import LGBMRegressor\n",
    "\n",
    "# def objective(trial):\n",
    "\n",
    "\n",
    "#     min_child_samples = trial.suggest_int('min_child_samples', 5, 100)\n",
    "#     num_leaves = trial.suggest_int('num_leaves', 2, 256)\n",
    "#     learning_rate = trial.suggest_uniform('learning_rate', 0.05, .7)\n",
    "#     n_estimators = trial.suggest_int('n_estimators', 2, 100)\n",
    "\n",
    "#     clf = LGBMRegressor(num_leaves=num_leaves,\n",
    "#                         objective = 'mape',\n",
    "#                         learning_rate=learning_rate,\n",
    "#                         n_estimators=n_estimators,\n",
    "#                         min_child_samples=min_child_samples,\n",
    "#                         n_jobs=-1\n",
    "#                        )\n",
    "    \n",
    "#     clf.fit(train_x, train_y)\n",
    "#     y_pred = clf.predict(test_x, num_iteration=clf.best_iteration_)\n",
    "#     loss = mean_squared_error(test_y, y_pred)\n",
    "#     return loss\n",
    "\n",
    "# study = optuna.create_study(direction=\"minimize\")\n",
    "# study.optimize(objective, n_trials=10,  n_jobs=-1, timeout=24000)\n",
    "# print(study.best_trial)"
   ]
  },
  {
   "cell_type": "code",
   "execution_count": null,
   "id": "a85de7b2-414d-4b1e-906a-bca51bf8fabc",
   "metadata": {},
   "outputs": [],
   "source": [
    "# study.best_value"
   ]
  },
  {
   "cell_type": "code",
   "execution_count": null,
   "id": "3ebcd759-f023-453d-ae1e-27851d341ea4",
   "metadata": {},
   "outputs": [],
   "source": [
    "# study.best_params"
   ]
  },
  {
   "cell_type": "code",
   "execution_count": null,
   "id": "92de148e-cbaf-49e5-9986-fbf4a394cd5b",
   "metadata": {},
   "outputs": [],
   "source": [
    "# optuna.visualization.plot_optimization_history(study)"
   ]
  },
  {
   "cell_type": "code",
   "execution_count": null,
   "id": "cc1489bd-82e8-411c-8df5-80daf6adada5",
   "metadata": {},
   "outputs": [],
   "source": [
    "# optuna.visualization.plot_slice(study)"
   ]
  },
  {
   "cell_type": "code",
   "execution_count": null,
   "id": "9800d3b2-fc04-427d-9db8-164797d995ba",
   "metadata": {},
   "outputs": [],
   "source": [
    "# optuna.visualization.plot_contour(study, params=['learning_rate',\n",
    "#                                                  'min_child_samples',\n",
    "#                                                  'num_leaves',\n",
    "#                                                  'n_estimators'])"
   ]
  },
  {
   "cell_type": "code",
   "execution_count": null,
   "id": "83459604-2cd3-4d5d-99a7-4c00a67e3360",
   "metadata": {},
   "outputs": [],
   "source": [
    "# optuna.visualization.plot_param_importances(study)"
   ]
  },
  {
   "cell_type": "code",
   "execution_count": null,
   "id": "ec79b236-11a0-47b3-afcd-72acedd6e694",
   "metadata": {},
   "outputs": [],
   "source": [
    "# optuna.visualization.plot_edf(study)"
   ]
  },
  {
   "cell_type": "code",
   "execution_count": null,
   "id": "22987092-7ee6-42b1-a876-bb2d8fe2e00e",
   "metadata": {},
   "outputs": [],
   "source": [
    "# %%time\n",
    "# optimized_regressor = CatBoostRegressor(learning_rate=study.best_params['learning_rate'],\n",
    "#                                         depth=study.best_params['depth'],\n",
    "#                                         l2_leaf_reg=study.best_params['l2_leaf_reg'],\n",
    "#                                         min_child_samples=study.best_params['min_child_samples'],\n",
    "#                                         grow_policy='Depthwise',\n",
    "#                                         iterations=10000,\n",
    "#                                         use_best_model=True,\n",
    "#                                         eval_metric='RMSE',\n",
    "#                                         od_type='iter',\n",
    "#                                         od_wait=20,\n",
    "#                                         random_state=RANDOM_SEED,\n",
    "#                                         logging_level='Silent')\n",
    "# optimized_regressor.fit(X_train.copy(), y_train.copy(),\n",
    "#                         eval_set=[(X_eval.copy(), y_eval.copy())],\n",
    "#                         early_stopping_rounds=EARLY_STOPPING_ROUND)\n",
    "# pred_train = optimized_regressor.predict(X_train.copy())\n",
    "# pred_valid = optimized_regressor.predict(X_valid.copy())"
   ]
  },
  {
   "cell_type": "code",
   "execution_count": 4,
   "id": "f9648e55-4f32-412f-a499-1c8107649c24",
   "metadata": {},
   "outputs": [],
   "source": [
    "lgbm = LGBMRegressor(\n",
    "    boosting_type = 'dart',\n",
    "    learning_rate = 0.039691509923932582, \n",
    "    max_depth = 10,\n",
    "    metric='rmse',\n",
    "    n_estimators = 330,\n",
    "    num_leaves = 21,\n",
    "    subsample_for_bin = 201000,\n",
    "    colsample_bytree = 0.8,\n",
    "    subsample = 1.0,\n",
    "    silent=True\n",
    "    )"
   ]
  },
  {
   "cell_type": "code",
   "execution_count": 24,
   "id": "05d7918e-7269-4b34-a74c-c155833b498e",
   "metadata": {},
   "outputs": [],
   "source": [
    "testX = beer_test.drop(['id','Date'], axis=1)\n",
    "if 'Sales' in testX.columns:\n",
    "    testX = testX.drop(['Sales'], axis=1)\n",
    "\n",
    "#Now all data\n",
    "lgbm.fit(X,y)\n",
    "lgbm_prediction = lgbm.predict(testX)\n",
    "\n",
    "beer_test['Sales'] = lgbm_prediction\n",
    "beer_test = beer_test.sort_values(by=['id'])\n",
    "\n",
    "beer_test\n",
    "beer_test[['id','Sales']].to_csv(\"data/results_LGBM.csv\", index=False)"
   ]
  },
  {
   "cell_type": "code",
   "execution_count": null,
   "id": "cc16ddde-8c51-4fa2-8dad-cf1d5107ea30",
   "metadata": {},
   "outputs": [],
   "source": []
  }
 ],
 "metadata": {
  "kernelspec": {
   "display_name": "Python 3",
   "language": "python",
   "name": "python3"
  },
  "language_info": {
   "codemirror_mode": {
    "name": "ipython",
    "version": 3
   },
   "file_extension": ".py",
   "mimetype": "text/x-python",
   "name": "python",
   "nbconvert_exporter": "python",
   "pygments_lexer": "ipython3",
   "version": "3.8.8"
  }
 },
 "nbformat": 4,
 "nbformat_minor": 5
}
