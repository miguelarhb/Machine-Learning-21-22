{
 "cells": [
  {
   "cell_type": "code",
   "execution_count": 2,
   "id": "c23c62c2-b8de-4a5e-a36f-e8696688d4ae",
   "metadata": {},
   "outputs": [],
   "source": [
    "import os\n",
    "import datetime\n",
    "\n",
    "import IPython\n",
    "import IPython.display\n",
    "import matplotlib as mpl\n",
    "import matplotlib.pyplot as plt\n",
    "import numpy as np\n",
    "import pandas as pd\n",
    "import seaborn as sns\n",
    "from matplotlib import pyplot\n",
    "from datetime import datetime\n",
    "from sklearn.preprocessing import OrdinalEncoder\n",
    "from statsmodels.graphics.tsaplots import plot_acf\n",
    "\n"
   ]
  },
  {
   "cell_type": "code",
   "execution_count": 3,
   "id": "c1639351",
   "metadata": {},
   "outputs": [],
   "source": [
    "%load_ext autoreload\n",
    "%matplotlib inline"
   ]
  },
  {
   "cell_type": "markdown",
   "id": "42081773",
   "metadata": {},
   "source": [
    "-Table description:\n",
    "--\n",
    "-beer_train.csv - the training set\n",
    "-beer_test.csv - the test set\n",
    "-sampleSubmission.csv - a sample submission file in the correct format\n",
    "-id_store_sku.csv - id - store_id - sku_name mapping\n",
    "-sku_features.csv - SKU Features\n",
    "\n",
    "-Feature description:\n",
    "--\n",
    "-Date - calendar date\n",
    "-ts_id - time-series identification, each of them describe sales of one SKU at one Store\n",
    "-isPromo - how many types of promotion were active on this day. 0 = no promotions, 1 = a single promotion type (for example, -price discount), 2 = two promotion types simultaneously (for example, both price discount and special placement)-\n",
    "-Sales - actual sales, target\n",
    "-id - identifier of rows in the submission file (the same order as in the test set). This is the key column Kaggle uses to match the test labels and your predictions. Order matters\n",
    "-Store - identifier of the stores (supermarket)\n",
    "-SKU - Stock Keeping Unit. Identifier of the product\n",
    "-Segment - price segment of the product\n",
    "-Pack - package type\n",
    "-Product - type of the drink\n",
    "-Brand - product's brand\n",
    "-Volume - package size"
   ]
  },
  {
   "cell_type": "code",
   "execution_count": 4,
   "id": "481f9781-fc21-4b68-9931-de9f9d44b32f",
   "metadata": {},
   "outputs": [
    {
     "data": {
      "text/html": [
       "<div>\n",
       "<style scoped>\n",
       "    .dataframe tbody tr th:only-of-type {\n",
       "        vertical-align: middle;\n",
       "    }\n",
       "\n",
       "    .dataframe tbody tr th {\n",
       "        vertical-align: top;\n",
       "    }\n",
       "\n",
       "    .dataframe thead th {\n",
       "        text-align: right;\n",
       "    }\n",
       "</style>\n",
       "<table border=\"1\" class=\"dataframe\">\n",
       "  <thead>\n",
       "    <tr style=\"text-align: right;\">\n",
       "      <th></th>\n",
       "      <th>Date</th>\n",
       "      <th>ts_id</th>\n",
       "      <th>isPromo</th>\n",
       "      <th>Sales</th>\n",
       "    </tr>\n",
       "  </thead>\n",
       "  <tbody>\n",
       "    <tr>\n",
       "      <th>0</th>\n",
       "      <td>2015-06-15</td>\n",
       "      <td>0</td>\n",
       "      <td>0.0</td>\n",
       "      <td>0.100</td>\n",
       "    </tr>\n",
       "    <tr>\n",
       "      <th>1</th>\n",
       "      <td>2015-06-15</td>\n",
       "      <td>1</td>\n",
       "      <td>0.0</td>\n",
       "      <td>0.350</td>\n",
       "    </tr>\n",
       "    <tr>\n",
       "      <th>2</th>\n",
       "      <td>2015-06-15</td>\n",
       "      <td>2</td>\n",
       "      <td>1.0</td>\n",
       "      <td>0.600</td>\n",
       "    </tr>\n",
       "    <tr>\n",
       "      <th>3</th>\n",
       "      <td>2015-06-15</td>\n",
       "      <td>3</td>\n",
       "      <td>1.0</td>\n",
       "      <td>0.350</td>\n",
       "    </tr>\n",
       "    <tr>\n",
       "      <th>4</th>\n",
       "      <td>2015-06-15</td>\n",
       "      <td>4</td>\n",
       "      <td>0.0</td>\n",
       "      <td>0.150</td>\n",
       "    </tr>\n",
       "    <tr>\n",
       "      <th>...</th>\n",
       "      <td>...</td>\n",
       "      <td>...</td>\n",
       "      <td>...</td>\n",
       "      <td>...</td>\n",
       "    </tr>\n",
       "    <tr>\n",
       "      <th>1382316</th>\n",
       "      <td>2017-06-14</td>\n",
       "      <td>2059</td>\n",
       "      <td>0.0</td>\n",
       "      <td>0.405</td>\n",
       "    </tr>\n",
       "    <tr>\n",
       "      <th>1382317</th>\n",
       "      <td>2017-06-14</td>\n",
       "      <td>2060</td>\n",
       "      <td>0.0</td>\n",
       "      <td>0.180</td>\n",
       "    </tr>\n",
       "    <tr>\n",
       "      <th>1382318</th>\n",
       "      <td>2017-06-14</td>\n",
       "      <td>2061</td>\n",
       "      <td>1.0</td>\n",
       "      <td>0.810</td>\n",
       "    </tr>\n",
       "    <tr>\n",
       "      <th>1382319</th>\n",
       "      <td>2017-06-14</td>\n",
       "      <td>2062</td>\n",
       "      <td>1.0</td>\n",
       "      <td>0.360</td>\n",
       "    </tr>\n",
       "    <tr>\n",
       "      <th>1382320</th>\n",
       "      <td>2017-06-14</td>\n",
       "      <td>2063</td>\n",
       "      <td>0.0</td>\n",
       "      <td>0.180</td>\n",
       "    </tr>\n",
       "  </tbody>\n",
       "</table>\n",
       "<p>1382321 rows × 4 columns</p>\n",
       "</div>"
      ],
      "text/plain": [
       "               Date  ts_id  isPromo  Sales\n",
       "0        2015-06-15      0      0.0  0.100\n",
       "1        2015-06-15      1      0.0  0.350\n",
       "2        2015-06-15      2      1.0  0.600\n",
       "3        2015-06-15      3      1.0  0.350\n",
       "4        2015-06-15      4      0.0  0.150\n",
       "...             ...    ...      ...    ...\n",
       "1382316  2017-06-14   2059      0.0  0.405\n",
       "1382317  2017-06-14   2060      0.0  0.180\n",
       "1382318  2017-06-14   2061      1.0  0.810\n",
       "1382319  2017-06-14   2062      1.0  0.360\n",
       "1382320  2017-06-14   2063      0.0  0.180\n",
       "\n",
       "[1382321 rows x 4 columns]"
      ]
     },
     "execution_count": 4,
     "metadata": {},
     "output_type": "execute_result"
    }
   ],
   "source": [
    "beer_train = pd.read_csv(\"data/beer_train.csv\")\n",
    "beer_train\n",
    "#xt=[]\n",
    "#for x in range(beer_train['ts_id'].max()):\n",
    "#    if x not in beer_train['ts_id'].unique():\n",
    "#        xt.append(x)\n",
    "#len(xt)#179\n",
    "\n",
    "#xt\n",
    "\n",
    "# xt=[]\n",
    "# for x in range(beer_train['ts_id'].max()): #For each ts_id\n",
    "#     if x in beer_train['ts_id'].unique():\n",
    "#         temp=beer_train.loc[beer_train['ts_id'] == x]\n",
    "#         xt.append(len(temp[\"Date\"].unique()))\n",
    "    \n",
    "# set(xt)\n",
    "\n",
    "#len(beer_train['ts_id'].unique())\n",
    "#beer_train.loc[beer_train['ts_id'] == 0]"
   ]
  },
  {
   "cell_type": "code",
   "execution_count": 82,
   "id": "3c4683fd-3435-4a3c-952e-989c532d8d5e",
   "metadata": {},
   "outputs": [],
   "source": [
    "beer_test = pd.read_csv(\"data/beer_test.csv\")\n",
    "#beer_test\n",
    "\n",
    "#xt=[]\n",
    "#for x in range(2070):\n",
    "#    if x not in beer_test['ts_id'].unique():\n",
    "#        xt.append(x)\n",
    "#len(xt)#179\n",
    "\n",
    "# xt=[]\n",
    "# for x in range(beer_test['ts_id'].max()): #For each ts_id\n",
    "#     if x in beer_test['ts_id'].unique():\n",
    "#         temp=beer_test.loc[beer_test['ts_id'] == x]\n",
    "#         xt.append(len(temp[\"Date\"].unique()))\n",
    "    \n",
    "# set(xt)\n",
    "\n",
    "#len(beer_test[\"ts_id\"].unique())#.loc[beer_test[\"ts_id\" ]==0 ]#Ok only prediction in the future"
   ]
  },
  {
   "cell_type": "code",
   "execution_count": 6,
   "id": "af0385ed-2deb-4a8a-93e5-e224b3b8b151",
   "metadata": {},
   "outputs": [],
   "source": [
    "sampleSubmission = pd.read_csv(\"data/sampleSubmission.csv\")\n"
   ]
  },
  {
   "cell_type": "code",
   "execution_count": 83,
   "id": "bfd67042-5980-463a-b407-86726028bd23",
   "metadata": {},
   "outputs": [],
   "source": [
    "id_store_sku = pd.read_csv(\"data/id_store_sku.csv\")\n",
    "#len(id_store_sku[\"ts_id\"].unique()) #267 Stores\n",
    "#id_store_sku.loc[id_store_sku['SKU'] == \"_Holsten Bottle 0,47\"] No value\n",
    "#id_store_sku[\"Store\"]\n",
    "#xt=[]\n",
    "#for x in range(2070):\n",
    "#    if x not in id_store_sku['ts_id'].unique():\n",
    "#        xt.append(x)\n",
    "#len(xt)#179\n",
    "#xt\n",
    "#id_store_sku\n",
    "\n",
    "#len(id_store_sku[\"SKU\"].unique()) #18 SKU"
   ]
  },
  {
   "cell_type": "code",
   "execution_count": 84,
   "id": "710a5f5c-b35f-416c-82cf-b7bc7afd82d5",
   "metadata": {},
   "outputs": [],
   "source": [
    "sku_features = pd.read_csv(\"data/sku_features.csv\")\n",
    "#sku_features"
   ]
  },
  {
   "cell_type": "code",
   "execution_count": 85,
   "id": "9ffb734b-6a9c-4f04-a7db-587783d6805d",
   "metadata": {},
   "outputs": [],
   "source": [
    "result = pd.merge(id_store_sku, sku_features, on=\"SKU\")\n",
    "#result.sort_values(by=['ts_id'])\n",
    "#len(final_result['SKU'].unique()) #256 Stores\n"
   ]
  },
  {
   "cell_type": "code",
   "execution_count": 139,
   "id": "3a10314f-daf8-465e-9e56-63f15169fbab",
   "metadata": {},
   "outputs": [
    {
     "data": {
      "text/plain": [
       "{'_Baltika Cooler Bottle 0,47',\n",
       " '_Baltika Draught PET 0,47',\n",
       " '_Baltika №0 Can 0,45',\n",
       " '_Baltika №3 Can 0,45',\n",
       " '_Baltika №7 Bottle 0,47',\n",
       " '_Baltika №7 Can 0,45',\n",
       " '_Baltika №9 Can 0,45',\n",
       " '_Carlsberg Can 0,45',\n",
       " '_Don PET 1,42',\n",
       " '_Firmennoe PET 1,42',\n",
       " '_Flash Up Energy PET 0,5',\n",
       " '_Priazovskoye Bottle 0,47',\n",
       " '_Priazovskoye PET 1,42',\n",
       " '_Tuborg Green Bottle 0,48',\n",
       " '_Tuborg Green Can 0,45',\n",
       " '_Zatecky Gus Bottle 0,48',\n",
       " '_Zatecky Gus Can 0,45',\n",
       " '_Zatecky Gus PET 1,42'}"
      ]
     },
     "execution_count": 139,
     "metadata": {},
     "output_type": "execute_result"
    }
   ],
   "source": [
    "final_result = pd.merge(beer_train, result, on=\"ts_id\")\n",
    "final_result\n",
    "    \n",
    "set(final_result['SKU'])"
   ]
  },
  {
   "cell_type": "code",
   "execution_count": 86,
   "id": "492ac58d",
   "metadata": {},
   "outputs": [],
   "source": [
    "#len(final_result['ts_id'].unique()) #256 Stores\n",
    "#pd.DataFrame.drop_duplicates(final_result) ok"
   ]
  },
  {
   "cell_type": "markdown",
   "id": "8bce2057",
   "metadata": {},
   "source": [
    "# Visualization (EDA)"
   ]
  },
  {
   "cell_type": "markdown",
   "id": "191c3868",
   "metadata": {},
   "source": [
    "There are 267 stores and 18 SKU in id_store_sku\n",
    "There are 19 SKU in sku_features\n",
    "There are 256 stores, 18 SKU, in the final join\n",
    "\n",
    "That means that we don't have sales for 11 stores, and a beer is not sold anywhere\n",
    "\n",
    "\n",
    "There are 1944 ts_id in id_store_sku\n",
    "There are 1891 ts_id in beer_train and beer_test\n",
    "We have 173 missing ts_id in beer_train and beer_test\n",
    "We have 120 missing ts_id in id_store_sku\n",
    "\n",
    "That means that for 53 ts_ids we don't have sales, for 120 we don't have sales either correspondance with beer/store\n",
    "\n",
    "\n",
    "Date\n",
    "For the train, we have 731 data points(days) for each ts_id\n",
    "For the test, we have 102 data points(days) for each ts_id"
   ]
  },
  {
   "cell_type": "code",
   "execution_count": null,
   "id": "de881cde",
   "metadata": {},
   "outputs": [],
   "source": [
    "#Transform Date into suitable for regression (8 to 10 columns) ALSO FOR TEST\n",
    "    #Month 1-12\n",
    "    #Year 2015-2017\n",
    "    #Week 1-53\n",
    "    #Weekday 1-7 -->Also include weekends\n",
    "    #Holiday categorical\n",
    "    #SchoolDay 0-1\n",
    "    #Birthdays distribution in Russia\n",
    "    #Other columns\n",
    "    #Seasons categorical\n",
    "    #See down\n",
    "                                                        #Miguel\n",
    "    \n",
    "#Find if isPromo/Sales are affected by other columns( Segment/Brand/...), if so add another column with useful info\n",
    "# Example add column PromoSegmentEffectiveness with values double=2, triple=3....0.7...\n",
    "# If we see that there are no correlation, (throw away columns) maybe\n",
    "                                                        \n",
    "                                                        #Laura\n",
    "\n",
    "#Trend/seasonalities?\n",
    "\n",
    "# Heatmap understand and do stuff --> After adding columns\n",
    "\n",
    "#Outliers?\n",
    "\n",
    "#Categorical?\n",
    "\n",
    "#Linearly dependent\n",
    "\n",
    "#Autocorrelation"
   ]
  },
  {
   "cell_type": "code",
   "execution_count": 144,
   "id": "6c7833fd",
   "metadata": {},
   "outputs": [
    {
     "data": {
      "image/png": "[encoded data removed]",
      "text/plain": [
       "<Figure size 432x288 with 1 Axes>"
      ]
     },
     "metadata": {
      "needs_background": "light"
     },
     "output_type": "display_data"
    }
   ],
   "source": [
    "#Trends/seasonalities for group of things (see if sales are growing/reducing for a certain segment/brand...)\n",
    "\n",
    "                                                        #Simone\n",
    "fr = final_result\n",
    "fr['Date'] = pd.to_datetime(final_result['Date'])\n",
    "\n",
    "fr = fr[fr['Segment']==\"Premium\"]\n",
    "fr\n",
    "res = fr.groupby(fr['Date'].dt.date).mean()  \n",
    "res\n",
    "plot_cols = ['Sales','isPromo']#'isPromo'\n",
    "plot_features = res[plot_cols]\n",
    "_ = plot_features.plot(subplots=False)"
   ]
  },
  {
   "cell_type": "markdown",
   "id": "7ec2af7f",
   "metadata": {},
   "source": [
    "PACK Can, PET, Bottle\n",
    "Can : Seasonality around mid-september/begin june 2x (down) and new year/may (up)\n",
    "PET : september(down)\n",
    "Bottle : new year (up)\n",
    "\n",
    "SEGMENT Premium, MainStream, High Margin\n",
    "Premium : Seasonality new year (up), september/june (down)\n",
    "MainStream: maybe little trend up, september/june (down) HIGH CORR WITH ISPROMO !!\n",
    "High Margin: only 51 ts_id, 0 since OCT 2015, HIGH CORR WITH ISPROMO !!\n",
    "\n",
    "PRODUCT Lager, Energy-drink, Non-alco, Other\n",
    "Lager: september/june (down) new year (up)\n",
    "Energy-drink: 0 since OCT 2015, GOOD CORR WITH ISPROMO !!\n",
    "Non-alco: REAALLY VARIABLE,  new year (up), up in summer IS PROMO USELESS !!\n",
    "Other: VERY HIGH CORR WITH ISPROMO !!\n",
    "\n",
    "VOLUME 0.45, 0.5, 1.5\n",
    "0.45: september/june (down), new year (up)\n",
    "0.5: september/june (down), new year (up)\n",
    "1.5: GOOD CORR WITH ISPROMO !!\n",
    "\n",
    "STORE: TOO MANY\n",
    "\n",
    "BRAND Carlsberg Flash Tuborg Zatecky Gus Baltika №3 Baltika №7 Baltika №9 Baltika Cooler Baltika Draught Don Firmennoe Priazovskoye\n",
    "Carlsberg : HIGH CORR WITH ISPROMO !!\n",
    "Flash : GOOD CORR WITH ISPROMO !!\n",
    "Holsten : no data\n",
    "Tuborg : GOOD CORR WITH ISPROMO !!\n",
    "Zatecky Gus : GOOD CORR WITH ISPROMO !!\n",
    "Baltika №3 : GOOD CORR WITH ISPROMO !!\n",
    "Baltika №7 : GOOD CORR WITH ISPROMO !!\n",
    "Baltika №9 : september/june (down)\n",
    "Baltika Cooler : HIGH CORR WITH ISPROMO !!\n",
    "Baltika Draught : HIGH CORR WITH ISPROMO !!\n",
    "Don : GOOD CORR WITH ISPROMO !!\n",
    "Firmennoe : GOOD CORR WITH ISPROMO !!\n",
    "Priazovskoye : random"
   ]
  },
  {
   "cell_type": "code",
   "execution_count": null,
   "id": "2e35c2a1",
   "metadata": {},
   "outputs": [],
   "source": [
    "#Found online, see if something is useful\n",
    "# Below function extracts date related features from datetime\n",
    "# def create_date_featues(df):\n",
    "\n",
    "#     df['Year'] = pd.to_datetime(df['DateTime']).dt.year\n",
    "\n",
    "#     df['Month'] = pd.to_datetime(df['DateTime']).dt.month\n",
    "\n",
    "#     df['Day'] = pd.to_datetime(df['DateTime']).dt.day\n",
    "\n",
    "#     df['Dayofweek'] = pd.to_datetime(df['DateTime']).dt.dayofweek\n",
    "\n",
    "#     df['DayOfyear'] = pd.to_datetime(df['DateTime']).dt.dayofyear\n",
    "\n",
    "#     df['Week'] = pd.to_datetime(df['DateTime']).dt.week\n",
    "\n",
    "#     df['Quarter'] = pd.to_datetime(df['DateTime']).dt.quarter \n",
    "\n",
    "#     df['Is_month_start'] = pd.to_datetime(df['DateTime']).dt.is_month_start\n",
    "\n",
    "#     df['Is_month_end'] = pd.to_datetime(df['DateTime']).dt.is_month_end\n",
    "\n",
    "#     df['Is_quarter_start'] = pd.to_datetime(df['DateTime']).dt.is_quarter_start\n",
    "\n",
    "#     df['Is_quarter_end'] = pd.to_datetime(df['DateTime']).dt.is_quarter_end\n",
    "\n",
    "#     df['Is_year_start'] = pd.to_datetime(df['DateTime']).dt.is_year_start\n",
    "\n",
    "#     df['Is_year_end'] = pd.to_datetime(df['DateTime']).dt.is_year_end\n",
    "\n",
    "#     df['Semester'] = np.where(df['Quarter'].isin([1,2]),1,2)\n",
    "\n",
    "#     df['Is_weekend'] = np.where(df['Dayofweek'].isin([5,6]),1,0)\n",
    "\n",
    "#     df['Is_weekday'] = np.where(df['Dayofweek'].isin([0,1,2,3,4]),1,0)\n",
    "    \n",
    "#     df['Hour'] = pd.to_datetime(df['DateTime']).dt.hour\n",
    "    \n",
    "#     return df"
   ]
  },
  {
   "cell_type": "markdown",
   "id": "c653ee53",
   "metadata": {},
   "source": [
    "# Data cleaning"
   ]
  },
  {
   "cell_type": "code",
   "execution_count": null,
   "id": "99ffe7da",
   "metadata": {},
   "outputs": [],
   "source": [
    "#Find if there are duplicates\n",
    "final_result = pd.DataFrame.drop_duplicates(final_result)# Nothing happens\n",
    "beer_test = pd.DataFrame.drop_duplicates(beer_test)# Nothing happens\n"
   ]
  },
  {
   "cell_type": "code",
   "execution_count": null,
   "id": "93e0cb29",
   "metadata": {},
   "outputs": [],
   "source": [
    "#Find if there are nan\n",
    "final_result.isnull().sum().sum() #No nan found\n",
    "beer_test.isnull().sum().sum() #No nan found"
   ]
  },
  {
   "cell_type": "code",
   "execution_count": null,
   "id": "f85a008a",
   "metadata": {},
   "outputs": [],
   "source": [
    "#Handle categorical features\n",
    "#Handle date\n",
    "final_result['Date'] = pd.to_datetime(final_result['Date'])\n",
    "s = (final_result.dtypes == 'object')\n",
    "object_cols = list(s[s].index)\n",
    "ordinal_encoder = OrdinalEncoder()\n",
    "# Apply ordinal encoder to each column with categorical data\n",
    "final_result[object_cols] = ordinal_encoder.fit_transform(final_result[object_cols])\n",
    "final_result\n",
    "#Handle date for test set\n",
    "beer_test['Date'] = pd.to_datetime(beer_test['Date'])"
   ]
  },
  {
   "cell_type": "code",
   "execution_count": null,
   "id": "027a6248",
   "metadata": {},
   "outputs": [],
   "source": [
    "#Handle correlation between columns\n",
    "#TODO also for test\n",
    "plt.figure(figsize=(10,10))\n",
    "sns.heatmap(final_result.corr(),cbar=True,annot=True,cmap='Blues')"
   ]
  },
  {
   "cell_type": "code",
   "execution_count": null,
   "id": "0b52c06f",
   "metadata": {},
   "outputs": [],
   "source": [
    "#Find outliers\n",
    "#TODO also for test"
   ]
  },
  {
   "cell_type": "code",
   "execution_count": null,
   "id": "c9a3008d",
   "metadata": {},
   "outputs": [],
   "source": [
    "#Plot\n",
    "ts_id0 = final_result[final_result['ts_id']==0]\n",
    "date_time = pd.to_datetime(ts_id0.pop('Date'), format='%Y-%m-%d')\n",
    "plot_cols = ['Sales','isPromo','Segment']\n",
    "plot_features = ts_id0[plot_cols]\n",
    "plot_features.index = date_time\n",
    "_ = plot_features.plot(subplots=True)"
   ]
  },
  {
   "cell_type": "code",
   "execution_count": null,
   "id": "c0309bd0",
   "metadata": {},
   "outputs": [],
   "source": [
    "#See if columns are linearly dependent\n",
    "#TODO\n",
    "# import sympy \n",
    "# reduced_form, inds = sympy.Matrix(final_result.values).rref()\n",
    "# inds"
   ]
  },
  {
   "cell_type": "code",
   "execution_count": null,
   "id": "65db9d14",
   "metadata": {},
   "outputs": [],
   "source": [
    "#TODO Check autocorrelation\n",
    "\n",
    "# plot_acf(beer_train['Sales'], lags=1)\n",
    "# plt.show()"
   ]
  },
  {
   "cell_type": "markdown",
   "id": "172c09a3",
   "metadata": {},
   "source": [
    "# Feature engineering"
   ]
  },
  {
   "cell_type": "code",
   "execution_count": null,
   "id": "19c215b1",
   "metadata": {},
   "outputs": [],
   "source": [
    "#Create new features\n",
    "#Todo also for test"
   ]
  },
  {
   "cell_type": "code",
   "execution_count": null,
   "id": "4e7ec671",
   "metadata": {},
   "outputs": [],
   "source": [
    "#Feature selection\n",
    "#Todo also for test"
   ]
  },
  {
   "cell_type": "markdown",
   "id": "e681de98",
   "metadata": {},
   "source": [
    "# Time series preprocessing"
   ]
  },
  {
   "cell_type": "code",
   "execution_count": null,
   "id": "a93923e0",
   "metadata": {},
   "outputs": [],
   "source": [
    "#✔Trends (to describe increasing or decreasing behavior of the time series frequently presented in linear modes).\n",
    "#✔Seasonality (to highlight the repeating pattern of cycles of behavior over time) \n",
    "#✔Irregularity/Noise (to regard the non-systematic aspect of time series deviating from the common model values)\n",
    "#✔Cyclicity (to identify the repetitive changes in the time series and define their placement in the cycle). \n",
    "#Then add back?"
   ]
  },
  {
   "cell_type": "code",
   "execution_count": null,
   "id": "ff2e81e2",
   "metadata": {},
   "outputs": [],
   "source": []
  },
  {
   "cell_type": "markdown",
   "id": "022e110c",
   "metadata": {},
   "source": [
    "# Algorithms + tuning"
   ]
  },
  {
   "cell_type": "code",
   "execution_count": null,
   "id": "be3b0032",
   "metadata": {},
   "outputs": [],
   "source": [
    "#random forest with sliding windows / extratree (walk-forward)\n",
    "#gradient boosting machines/xgboost/lightgbm(ok categorical features) recommended by Ruslan/catboost (ok categorical)\n",
    "#linear regression/LSTM/ARIMA\n",
    "#Stacking (max 2 levels) Use stacking to increase accuracy\n"
   ]
  },
  {
   "cell_type": "code",
   "execution_count": null,
   "id": "2f8106a9",
   "metadata": {},
   "outputs": [],
   "source": [
    "#Validation + hyperparam tuning\n",
    "    \n",
    "#from sklearn.model_selection import TimeSeriesSplit\n"
   ]
  },
  {
   "cell_type": "markdown",
   "id": "484ded9a",
   "metadata": {},
   "source": [
    "# Predict"
   ]
  },
  {
   "cell_type": "code",
   "execution_count": null,
   "id": "268b1bdf",
   "metadata": {},
   "outputs": [],
   "source": [
    "#Predict and save on test"
   ]
  },
  {
   "cell_type": "code",
   "execution_count": null,
   "id": "9b0f10dd",
   "metadata": {},
   "outputs": [],
   "source": []
  },
  {
   "cell_type": "code",
   "execution_count": null,
   "id": "5bf74697-07a5-470b-84c8-a193e6bfba7c",
   "metadata": {},
   "outputs": [],
   "source": [
    "#visual\n",
    "\n",
    "#cleaning: \n",
    "    #duplicates (ok), \n",
    "    #outliers (find and see if ok or problems, see if have lot in test?)\n",
    "    #Nan (ok)final_result.isnull().sum().sum()\n",
    "    #Correlation between columns\n",
    "\n",
    "#feature engineering for all --> \n",
    "    #avoid target leakage\n",
    "    #Use feature selection\n",
    "    #Categorical features \n",
    "\n",
    "#Cleaning and feature engineering also for test !!!!!!!!!!!!!\n",
    "#detrend/season --> Then add back(?)\n",
    "\n",
    "\n",
    "\n",
    "#Every ts_id is a time series --> for each ts_id do  \n",
    "#Choose algorithm\n",
    "#Validation = divide train test, \n",
    "    #from sklearn.model_selection import TimeSeriesSplit\n",
    "    \n",
    "#(Automate tuning, find best)--> Scikit optimize? (isPromo??)\n",
    "#Train/test then predict\n",
    "\n",
    "#Can do global algorithm (NBeats??)"
   ]
  },
  {
   "cell_type": "code",
   "execution_count": null,
   "id": "872b6cd2",
   "metadata": {},
   "outputs": [],
   "source": []
  }
 ],
 "metadata": {
  "kernelspec": {
   "display_name": "Python 3",
   "language": "python",
   "name": "python3"
  },
  "language_info": {
   "codemirror_mode": {
    "name": "ipython",
    "version": 3
   },
   "file_extension": ".py",
   "mimetype": "text/x-python",
   "name": "python",
   "nbconvert_exporter": "python",
   "pygments_lexer": "ipython3",
   "version": "3.8.8"
  }
 },
 "nbformat": 4,
 "nbformat_minor": 5
}
