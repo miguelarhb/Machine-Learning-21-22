{
 "cells": [
  {
   "cell_type": "code",
   "execution_count": 2,
   "id": "c23c62c2-b8de-4a5e-a36f-e8696688d4ae",
   "metadata": {},
   "outputs": [],
   "source": [
    "import os\n",
    "import datetime\n",
    "\n",
    "import IPython\n",
    "import IPython.display\n",
    "import matplotlib as mpl\n",
    "import matplotlib.pyplot as plt\n",
    "import numpy as np\n",
    "import pandas as pd\n",
    "import seaborn as sns"
   ]
  },
  {
   "cell_type": "code",
   "execution_count": 3,
   "id": "3c4683fd-3435-4a3c-952e-989c532d8d5e",
   "metadata": {},
   "outputs": [],
   "source": [
    "beer_test = pd.read_csv(\"data/beer_test.csv\")"
   ]
  },
  {
   "cell_type": "code",
   "execution_count": 4,
   "id": "af0385ed-2deb-4a8a-93e5-e224b3b8b151",
   "metadata": {},
   "outputs": [],
   "source": [
    "sampleSubmission = pd.read_csv(\"data/sampleSubmission.csv\")"
   ]
  },
  {
   "cell_type": "code",
   "execution_count": 38,
   "id": "bfd67042-5980-463a-b407-86726028bd23",
   "metadata": {},
   "outputs": [
    {
     "data": {
      "text/plain": [
       "267"
      ]
     },
     "execution_count": 38,
     "metadata": {},
     "output_type": "execute_result"
    }
   ],
   "source": [
    "id_store_sku = pd.read_csv(\"data/id_store_sku.csv\")\n",
    "len(id_store_sku[\"Store\"].unique())"
   ]
  },
  {
   "cell_type": "code",
   "execution_count": 6,
   "id": "710a5f5c-b35f-416c-82cf-b7bc7afd82d5",
   "metadata": {},
   "outputs": [
    {
     "data": {
      "text/html": [
       "<div>\n",
       "<style scoped>\n",
       "    .dataframe tbody tr th:only-of-type {\n",
       "        vertical-align: middle;\n",
       "    }\n",
       "\n",
       "    .dataframe tbody tr th {\n",
       "        vertical-align: top;\n",
       "    }\n",
       "\n",
       "    .dataframe thead th {\n",
       "        text-align: right;\n",
       "    }\n",
       "</style>\n",
       "<table border=\"1\" class=\"dataframe\">\n",
       "  <thead>\n",
       "    <tr style=\"text-align: right;\">\n",
       "      <th></th>\n",
       "      <th>SKU</th>\n",
       "      <th>Segment</th>\n",
       "      <th>Pack</th>\n",
       "      <th>Product</th>\n",
       "      <th>Brand</th>\n",
       "      <th>Volume</th>\n",
       "    </tr>\n",
       "  </thead>\n",
       "  <tbody>\n",
       "    <tr>\n",
       "      <th>0</th>\n",
       "      <td>_Carlsberg Can 0,45</td>\n",
       "      <td>MainStream</td>\n",
       "      <td>Can</td>\n",
       "      <td>Lager</td>\n",
       "      <td>Carlsberg</td>\n",
       "      <td>0.45</td>\n",
       "    </tr>\n",
       "    <tr>\n",
       "      <th>1</th>\n",
       "      <td>_Flash Up Energy PET 0,5</td>\n",
       "      <td>High Margin</td>\n",
       "      <td>PET</td>\n",
       "      <td>Energy-drink</td>\n",
       "      <td>Flash</td>\n",
       "      <td>0.50</td>\n",
       "    </tr>\n",
       "    <tr>\n",
       "      <th>2</th>\n",
       "      <td>_Holsten Bottle 0,47</td>\n",
       "      <td>Premium</td>\n",
       "      <td>Bottle</td>\n",
       "      <td>Lager</td>\n",
       "      <td>Holsten</td>\n",
       "      <td>0.50</td>\n",
       "    </tr>\n",
       "    <tr>\n",
       "      <th>3</th>\n",
       "      <td>_Tuborg Green Can 0,45</td>\n",
       "      <td>Premium</td>\n",
       "      <td>Can</td>\n",
       "      <td>Lager</td>\n",
       "      <td>Tuborg</td>\n",
       "      <td>0.45</td>\n",
       "    </tr>\n",
       "    <tr>\n",
       "      <th>4</th>\n",
       "      <td>_Tuborg Green Bottle 0,48</td>\n",
       "      <td>Premium</td>\n",
       "      <td>Bottle</td>\n",
       "      <td>Lager</td>\n",
       "      <td>Tuborg</td>\n",
       "      <td>0.50</td>\n",
       "    </tr>\n",
       "    <tr>\n",
       "      <th>5</th>\n",
       "      <td>_Zatecky Gus Can 0,45</td>\n",
       "      <td>Premium</td>\n",
       "      <td>Can</td>\n",
       "      <td>Lager</td>\n",
       "      <td>Zatecky Gus</td>\n",
       "      <td>0.45</td>\n",
       "    </tr>\n",
       "    <tr>\n",
       "      <th>6</th>\n",
       "      <td>_Zatecky Gus Bottle 0,48</td>\n",
       "      <td>Premium</td>\n",
       "      <td>Bottle</td>\n",
       "      <td>Lager</td>\n",
       "      <td>Zatecky Gus</td>\n",
       "      <td>0.50</td>\n",
       "    </tr>\n",
       "    <tr>\n",
       "      <th>7</th>\n",
       "      <td>_Zatecky Gus PET 1,42</td>\n",
       "      <td>Premium</td>\n",
       "      <td>PET</td>\n",
       "      <td>Lager</td>\n",
       "      <td>Zatecky Gus</td>\n",
       "      <td>1.50</td>\n",
       "    </tr>\n",
       "    <tr>\n",
       "      <th>8</th>\n",
       "      <td>_Baltika №0 Can 0,45</td>\n",
       "      <td>Premium</td>\n",
       "      <td>Can</td>\n",
       "      <td>Non-alco</td>\n",
       "      <td>Baltika №3</td>\n",
       "      <td>0.45</td>\n",
       "    </tr>\n",
       "    <tr>\n",
       "      <th>9</th>\n",
       "      <td>_Baltika №3 Can 0,45</td>\n",
       "      <td>MainStream</td>\n",
       "      <td>Can</td>\n",
       "      <td>Lager</td>\n",
       "      <td>Baltika №3</td>\n",
       "      <td>0.45</td>\n",
       "    </tr>\n",
       "    <tr>\n",
       "      <th>10</th>\n",
       "      <td>_Baltika №7 Can 0,45</td>\n",
       "      <td>Premium</td>\n",
       "      <td>Can</td>\n",
       "      <td>Lager</td>\n",
       "      <td>Baltika №7</td>\n",
       "      <td>0.45</td>\n",
       "    </tr>\n",
       "    <tr>\n",
       "      <th>11</th>\n",
       "      <td>_Baltika №7 Bottle 0,47</td>\n",
       "      <td>Premium</td>\n",
       "      <td>Bottle</td>\n",
       "      <td>Lager</td>\n",
       "      <td>Baltika №7</td>\n",
       "      <td>0.50</td>\n",
       "    </tr>\n",
       "    <tr>\n",
       "      <th>12</th>\n",
       "      <td>_Baltika №9 Can 0,45</td>\n",
       "      <td>MainStream</td>\n",
       "      <td>Can</td>\n",
       "      <td>Lager</td>\n",
       "      <td>Baltika №9</td>\n",
       "      <td>0.45</td>\n",
       "    </tr>\n",
       "    <tr>\n",
       "      <th>13</th>\n",
       "      <td>_Baltika Cooler Bottle 0,47</td>\n",
       "      <td>MainStream</td>\n",
       "      <td>Bottle</td>\n",
       "      <td>Lager</td>\n",
       "      <td>Baltika Cooler</td>\n",
       "      <td>0.50</td>\n",
       "    </tr>\n",
       "    <tr>\n",
       "      <th>14</th>\n",
       "      <td>_Baltika Draught PET 0,47</td>\n",
       "      <td>Premium</td>\n",
       "      <td>PET</td>\n",
       "      <td>Other</td>\n",
       "      <td>Baltika Draught</td>\n",
       "      <td>0.50</td>\n",
       "    </tr>\n",
       "    <tr>\n",
       "      <th>15</th>\n",
       "      <td>_Don PET 1,42</td>\n",
       "      <td>MainStream</td>\n",
       "      <td>PET</td>\n",
       "      <td>Other</td>\n",
       "      <td>Don</td>\n",
       "      <td>1.50</td>\n",
       "    </tr>\n",
       "    <tr>\n",
       "      <th>16</th>\n",
       "      <td>_Firmennoe PET 1,42</td>\n",
       "      <td>Premium</td>\n",
       "      <td>PET</td>\n",
       "      <td>Other</td>\n",
       "      <td>Firmennoe</td>\n",
       "      <td>1.50</td>\n",
       "    </tr>\n",
       "    <tr>\n",
       "      <th>17</th>\n",
       "      <td>_Priazovskoye Bottle 0,47</td>\n",
       "      <td>MainStream</td>\n",
       "      <td>Bottle</td>\n",
       "      <td>Other</td>\n",
       "      <td>Priazovskoye</td>\n",
       "      <td>0.50</td>\n",
       "    </tr>\n",
       "    <tr>\n",
       "      <th>18</th>\n",
       "      <td>_Priazovskoye PET 1,42</td>\n",
       "      <td>MainStream</td>\n",
       "      <td>PET</td>\n",
       "      <td>Other</td>\n",
       "      <td>Priazovskoye</td>\n",
       "      <td>1.50</td>\n",
       "    </tr>\n",
       "  </tbody>\n",
       "</table>\n",
       "</div>"
      ],
      "text/plain": [
       "                            SKU      Segment    Pack       Product  \\\n",
       "0           _Carlsberg Can 0,45   MainStream     Can         Lager   \n",
       "1      _Flash Up Energy PET 0,5  High Margin     PET  Energy-drink   \n",
       "2          _Holsten Bottle 0,47      Premium  Bottle         Lager   \n",
       "3        _Tuborg Green Can 0,45      Premium     Can         Lager   \n",
       "4     _Tuborg Green Bottle 0,48      Premium  Bottle         Lager   \n",
       "5         _Zatecky Gus Can 0,45      Premium     Can         Lager   \n",
       "6      _Zatecky Gus Bottle 0,48      Premium  Bottle         Lager   \n",
       "7         _Zatecky Gus PET 1,42      Premium     PET         Lager   \n",
       "8          _Baltika №0 Can 0,45      Premium     Can      Non-alco   \n",
       "9          _Baltika №3 Can 0,45   MainStream     Can         Lager   \n",
       "10         _Baltika №7 Can 0,45      Premium     Can         Lager   \n",
       "11      _Baltika №7 Bottle 0,47      Premium  Bottle         Lager   \n",
       "12         _Baltika №9 Can 0,45   MainStream     Can         Lager   \n",
       "13  _Baltika Cooler Bottle 0,47   MainStream  Bottle         Lager   \n",
       "14    _Baltika Draught PET 0,47      Premium     PET         Other   \n",
       "15                _Don PET 1,42   MainStream     PET         Other   \n",
       "16          _Firmennoe PET 1,42      Premium     PET         Other   \n",
       "17    _Priazovskoye Bottle 0,47   MainStream  Bottle         Other   \n",
       "18       _Priazovskoye PET 1,42   MainStream     PET         Other   \n",
       "\n",
       "              Brand  Volume  \n",
       "0         Carlsberg    0.45  \n",
       "1             Flash    0.50  \n",
       "2           Holsten    0.50  \n",
       "3            Tuborg    0.45  \n",
       "4            Tuborg    0.50  \n",
       "5       Zatecky Gus    0.45  \n",
       "6       Zatecky Gus    0.50  \n",
       "7       Zatecky Gus    1.50  \n",
       "8        Baltika №3    0.45  \n",
       "9        Baltika №3    0.45  \n",
       "10       Baltika №7    0.45  \n",
       "11       Baltika №7    0.50  \n",
       "12       Baltika №9    0.45  \n",
       "13   Baltika Cooler    0.50  \n",
       "14  Baltika Draught    0.50  \n",
       "15              Don    1.50  \n",
       "16        Firmennoe    1.50  \n",
       "17     Priazovskoye    0.50  \n",
       "18     Priazovskoye    1.50  "
      ]
     },
     "execution_count": 6,
     "metadata": {},
     "output_type": "execute_result"
    }
   ],
   "source": [
    "sku_features = pd.read_csv(\"data/sku_features.csv\")\n",
    "sku_features"
   ]
  },
  {
   "cell_type": "code",
   "execution_count": 7,
   "id": "481f9781-fc21-4b68-9931-de9f9d44b32f",
   "metadata": {},
   "outputs": [
    {
     "data": {
      "text/html": [
       "<div>\n",
       "<style scoped>\n",
       "    .dataframe tbody tr th:only-of-type {\n",
       "        vertical-align: middle;\n",
       "    }\n",
       "\n",
       "    .dataframe tbody tr th {\n",
       "        vertical-align: top;\n",
       "    }\n",
       "\n",
       "    .dataframe thead th {\n",
       "        text-align: right;\n",
       "    }\n",
       "</style>\n",
       "<table border=\"1\" class=\"dataframe\">\n",
       "  <thead>\n",
       "    <tr style=\"text-align: right;\">\n",
       "      <th></th>\n",
       "      <th>Date</th>\n",
       "      <th>ts_id</th>\n",
       "      <th>isPromo</th>\n",
       "      <th>Sales</th>\n",
       "    </tr>\n",
       "  </thead>\n",
       "  <tbody>\n",
       "    <tr>\n",
       "      <th>0</th>\n",
       "      <td>2015-06-15</td>\n",
       "      <td>0</td>\n",
       "      <td>0.0</td>\n",
       "      <td>0.100</td>\n",
       "    </tr>\n",
       "    <tr>\n",
       "      <th>1</th>\n",
       "      <td>2015-06-15</td>\n",
       "      <td>1</td>\n",
       "      <td>0.0</td>\n",
       "      <td>0.350</td>\n",
       "    </tr>\n",
       "    <tr>\n",
       "      <th>2</th>\n",
       "      <td>2015-06-15</td>\n",
       "      <td>2</td>\n",
       "      <td>1.0</td>\n",
       "      <td>0.600</td>\n",
       "    </tr>\n",
       "    <tr>\n",
       "      <th>3</th>\n",
       "      <td>2015-06-15</td>\n",
       "      <td>3</td>\n",
       "      <td>1.0</td>\n",
       "      <td>0.350</td>\n",
       "    </tr>\n",
       "    <tr>\n",
       "      <th>4</th>\n",
       "      <td>2015-06-15</td>\n",
       "      <td>4</td>\n",
       "      <td>0.0</td>\n",
       "      <td>0.150</td>\n",
       "    </tr>\n",
       "    <tr>\n",
       "      <th>...</th>\n",
       "      <td>...</td>\n",
       "      <td>...</td>\n",
       "      <td>...</td>\n",
       "      <td>...</td>\n",
       "    </tr>\n",
       "    <tr>\n",
       "      <th>1382316</th>\n",
       "      <td>2017-06-14</td>\n",
       "      <td>2059</td>\n",
       "      <td>0.0</td>\n",
       "      <td>0.405</td>\n",
       "    </tr>\n",
       "    <tr>\n",
       "      <th>1382317</th>\n",
       "      <td>2017-06-14</td>\n",
       "      <td>2060</td>\n",
       "      <td>0.0</td>\n",
       "      <td>0.180</td>\n",
       "    </tr>\n",
       "    <tr>\n",
       "      <th>1382318</th>\n",
       "      <td>2017-06-14</td>\n",
       "      <td>2061</td>\n",
       "      <td>1.0</td>\n",
       "      <td>0.810</td>\n",
       "    </tr>\n",
       "    <tr>\n",
       "      <th>1382319</th>\n",
       "      <td>2017-06-14</td>\n",
       "      <td>2062</td>\n",
       "      <td>1.0</td>\n",
       "      <td>0.360</td>\n",
       "    </tr>\n",
       "    <tr>\n",
       "      <th>1382320</th>\n",
       "      <td>2017-06-14</td>\n",
       "      <td>2063</td>\n",
       "      <td>0.0</td>\n",
       "      <td>0.180</td>\n",
       "    </tr>\n",
       "  </tbody>\n",
       "</table>\n",
       "<p>1382321 rows × 4 columns</p>\n",
       "</div>"
      ],
      "text/plain": [
       "               Date  ts_id  isPromo  Sales\n",
       "0        2015-06-15      0      0.0  0.100\n",
       "1        2015-06-15      1      0.0  0.350\n",
       "2        2015-06-15      2      1.0  0.600\n",
       "3        2015-06-15      3      1.0  0.350\n",
       "4        2015-06-15      4      0.0  0.150\n",
       "...             ...    ...      ...    ...\n",
       "1382316  2017-06-14   2059      0.0  0.405\n",
       "1382317  2017-06-14   2060      0.0  0.180\n",
       "1382318  2017-06-14   2061      1.0  0.810\n",
       "1382319  2017-06-14   2062      1.0  0.360\n",
       "1382320  2017-06-14   2063      0.0  0.180\n",
       "\n",
       "[1382321 rows x 4 columns]"
      ]
     },
     "execution_count": 7,
     "metadata": {},
     "output_type": "execute_result"
    }
   ],
   "source": [
    "beer_train = pd.read_csv(\"data/beer_train.csv\")\n",
    "beer_train"
   ]
  },
  {
   "cell_type": "code",
   "execution_count": 8,
   "id": "bd9b0693-e2ef-4538-becb-ffcd1ed33e7e",
   "metadata": {},
   "outputs": [
    {
     "data": {
      "text/plain": [
       "<bound method Series.unique of 0          0\n",
       "1          1\n",
       "2          2\n",
       "3          3\n",
       "4          4\n",
       "        ... \n",
       "1939    2059\n",
       "1940    2060\n",
       "1941    2061\n",
       "1942    2062\n",
       "1943    2063\n",
       "Name: ts_id, Length: 1944, dtype: int64>"
      ]
     },
     "execution_count": 8,
     "metadata": {},
     "output_type": "execute_result"
    }
   ],
   "source": [
    "id_store_sku[\"ts_id\"].unique"
   ]
  },
  {
   "cell_type": "code",
   "execution_count": 9,
   "id": "85270769-75a2-4b82-a2c4-9c93fbaa06c2",
   "metadata": {},
   "outputs": [
    {
     "data": {
      "image/png": "[encoded data removed]",
      "text/plain": [
       "<Figure size 432x288 with 1 Axes>"
      ]
     },
     "metadata": {
      "needs_background": "light"
     },
     "output_type": "display_data"
    }
   ],
   "source": [
    "beer_train = pd.read_csv(\"data/beer_train.csv\")\n",
    "ts_id0 = beer_train[beer_train['ts_id']==0]\n",
    "date_time = pd.to_datetime(ts_id0.pop('Date'), format='%Y-%m-%d')\n",
    "plot_cols = ['Sales']\n",
    "plot_features = ts_id0[plot_cols]\n",
    "plot_features.index = date_time\n",
    "_ = plot_features.plot(subplots=True)"
   ]
  },
  {
   "cell_type": "code",
   "execution_count": 10,
   "id": "9ffb734b-6a9c-4f04-a7db-587783d6805d",
   "metadata": {},
   "outputs": [
    {
     "data": {
      "text/html": [
       "<div>\n",
       "<style scoped>\n",
       "    .dataframe tbody tr th:only-of-type {\n",
       "        vertical-align: middle;\n",
       "    }\n",
       "\n",
       "    .dataframe tbody tr th {\n",
       "        vertical-align: top;\n",
       "    }\n",
       "\n",
       "    .dataframe thead th {\n",
       "        text-align: right;\n",
       "    }\n",
       "</style>\n",
       "<table border=\"1\" class=\"dataframe\">\n",
       "  <thead>\n",
       "    <tr style=\"text-align: right;\">\n",
       "      <th></th>\n",
       "      <th>ts_id</th>\n",
       "      <th>Store</th>\n",
       "      <th>SKU</th>\n",
       "      <th>Segment</th>\n",
       "      <th>Pack</th>\n",
       "      <th>Product</th>\n",
       "      <th>Brand</th>\n",
       "      <th>Volume</th>\n",
       "    </tr>\n",
       "  </thead>\n",
       "  <tbody>\n",
       "    <tr>\n",
       "      <th>0</th>\n",
       "      <td>0</td>\n",
       "      <td>3301</td>\n",
       "      <td>_Baltika №0 Can 0,45</td>\n",
       "      <td>Premium</td>\n",
       "      <td>Can</td>\n",
       "      <td>Non-alco</td>\n",
       "      <td>Baltika №3</td>\n",
       "      <td>0.45</td>\n",
       "    </tr>\n",
       "    <tr>\n",
       "      <th>1</th>\n",
       "      <td>6</td>\n",
       "      <td>3302</td>\n",
       "      <td>_Baltika №0 Can 0,45</td>\n",
       "      <td>Premium</td>\n",
       "      <td>Can</td>\n",
       "      <td>Non-alco</td>\n",
       "      <td>Baltika №3</td>\n",
       "      <td>0.45</td>\n",
       "    </tr>\n",
       "    <tr>\n",
       "      <th>2</th>\n",
       "      <td>15</td>\n",
       "      <td>3303</td>\n",
       "      <td>_Baltika №0 Can 0,45</td>\n",
       "      <td>Premium</td>\n",
       "      <td>Can</td>\n",
       "      <td>Non-alco</td>\n",
       "      <td>Baltika №3</td>\n",
       "      <td>0.45</td>\n",
       "    </tr>\n",
       "    <tr>\n",
       "      <th>3</th>\n",
       "      <td>22</td>\n",
       "      <td>3304</td>\n",
       "      <td>_Baltika №0 Can 0,45</td>\n",
       "      <td>Premium</td>\n",
       "      <td>Can</td>\n",
       "      <td>Non-alco</td>\n",
       "      <td>Baltika №3</td>\n",
       "      <td>0.45</td>\n",
       "    </tr>\n",
       "    <tr>\n",
       "      <th>4</th>\n",
       "      <td>29</td>\n",
       "      <td>3305</td>\n",
       "      <td>_Baltika №0 Can 0,45</td>\n",
       "      <td>Premium</td>\n",
       "      <td>Can</td>\n",
       "      <td>Non-alco</td>\n",
       "      <td>Baltika №3</td>\n",
       "      <td>0.45</td>\n",
       "    </tr>\n",
       "    <tr>\n",
       "      <th>...</th>\n",
       "      <td>...</td>\n",
       "      <td>...</td>\n",
       "      <td>...</td>\n",
       "      <td>...</td>\n",
       "      <td>...</td>\n",
       "      <td>...</td>\n",
       "      <td>...</td>\n",
       "      <td>...</td>\n",
       "    </tr>\n",
       "    <tr>\n",
       "      <th>1939</th>\n",
       "      <td>1248</td>\n",
       "      <td>7978</td>\n",
       "      <td>_Baltika Cooler Bottle 0,47</td>\n",
       "      <td>MainStream</td>\n",
       "      <td>Bottle</td>\n",
       "      <td>Lager</td>\n",
       "      <td>Baltika Cooler</td>\n",
       "      <td>0.50</td>\n",
       "    </tr>\n",
       "    <tr>\n",
       "      <th>1940</th>\n",
       "      <td>1409</td>\n",
       "      <td>8328</td>\n",
       "      <td>_Baltika Cooler Bottle 0,47</td>\n",
       "      <td>MainStream</td>\n",
       "      <td>Bottle</td>\n",
       "      <td>Lager</td>\n",
       "      <td>Baltika Cooler</td>\n",
       "      <td>0.50</td>\n",
       "    </tr>\n",
       "    <tr>\n",
       "      <th>1941</th>\n",
       "      <td>1262</td>\n",
       "      <td>7979</td>\n",
       "      <td>_Baltika Draught PET 0,47</td>\n",
       "      <td>Premium</td>\n",
       "      <td>PET</td>\n",
       "      <td>Other</td>\n",
       "      <td>Baltika Draught</td>\n",
       "      <td>0.50</td>\n",
       "    </tr>\n",
       "    <tr>\n",
       "      <th>1942</th>\n",
       "      <td>1416</td>\n",
       "      <td>8328</td>\n",
       "      <td>_Firmennoe PET 1,42</td>\n",
       "      <td>Premium</td>\n",
       "      <td>PET</td>\n",
       "      <td>Other</td>\n",
       "      <td>Firmennoe</td>\n",
       "      <td>1.50</td>\n",
       "    </tr>\n",
       "    <tr>\n",
       "      <th>1943</th>\n",
       "      <td>1557</td>\n",
       "      <td>8793</td>\n",
       "      <td>_Priazovskoye PET 1,42</td>\n",
       "      <td>MainStream</td>\n",
       "      <td>PET</td>\n",
       "      <td>Other</td>\n",
       "      <td>Priazovskoye</td>\n",
       "      <td>1.50</td>\n",
       "    </tr>\n",
       "  </tbody>\n",
       "</table>\n",
       "<p>1944 rows × 8 columns</p>\n",
       "</div>"
      ],
      "text/plain": [
       "      ts_id Store                          SKU     Segment    Pack   Product  \\\n",
       "0         0  3301         _Baltika №0 Can 0,45     Premium     Can  Non-alco   \n",
       "1         6  3302         _Baltika №0 Can 0,45     Premium     Can  Non-alco   \n",
       "2        15  3303         _Baltika №0 Can 0,45     Premium     Can  Non-alco   \n",
       "3        22  3304         _Baltika №0 Can 0,45     Premium     Can  Non-alco   \n",
       "4        29  3305         _Baltika №0 Can 0,45     Premium     Can  Non-alco   \n",
       "...     ...   ...                          ...         ...     ...       ...   \n",
       "1939   1248  7978  _Baltika Cooler Bottle 0,47  MainStream  Bottle     Lager   \n",
       "1940   1409  8328  _Baltika Cooler Bottle 0,47  MainStream  Bottle     Lager   \n",
       "1941   1262  7979    _Baltika Draught PET 0,47     Premium     PET     Other   \n",
       "1942   1416  8328          _Firmennoe PET 1,42     Premium     PET     Other   \n",
       "1943   1557  8793       _Priazovskoye PET 1,42  MainStream     PET     Other   \n",
       "\n",
       "                Brand  Volume  \n",
       "0          Baltika №3    0.45  \n",
       "1          Baltika №3    0.45  \n",
       "2          Baltika №3    0.45  \n",
       "3          Baltika №3    0.45  \n",
       "4          Baltika №3    0.45  \n",
       "...               ...     ...  \n",
       "1939   Baltika Cooler    0.50  \n",
       "1940   Baltika Cooler    0.50  \n",
       "1941  Baltika Draught    0.50  \n",
       "1942        Firmennoe    1.50  \n",
       "1943     Priazovskoye    1.50  \n",
       "\n",
       "[1944 rows x 8 columns]"
      ]
     },
     "execution_count": 10,
     "metadata": {},
     "output_type": "execute_result"
    }
   ],
   "source": [
    "result = pd.merge(id_store_sku, sku_features, on=\"SKU\")\n",
    "result"
   ]
  },
  {
   "cell_type": "code",
   "execution_count": 37,
   "id": "3a10314f-daf8-465e-9e56-63f15169fbab",
   "metadata": {},
   "outputs": [
    {
     "data": {
      "text/plain": [
       "256"
      ]
     },
     "execution_count": 37,
     "metadata": {},
     "output_type": "execute_result"
    }
   ],
   "source": [
    "final_result = pd.merge(beer_train, result, on=\"ts_id\")\n",
    "final_result[final_result[\"SKU\"]==\"\t_Baltika №0 Can 0,45\"]\n",
    "storesOr = final_result[\"Store\"].unique()\n",
    "stores =storesOr[:5]\n",
    "len(storesOr)"
   ]
  },
  {
   "cell_type": "code",
   "execution_count": 36,
   "id": "f0d50120-168e-46af-b5b1-720ff197b155",
   "metadata": {},
   "outputs": [
    {
     "name": "stdout",
     "output_type": "stream",
     "text": [
      "Store 3301\n",
      "Store 3302\n",
      "Store 3303\n",
      "Store 3304\n",
      "Store 3305\n"
     ]
    },
    {
     "data": {
      "image/png": "[encoded data removed]",
      "text/plain": [
       "<Figure size 432x288 with 1 Axes>"
      ]
     },
     "metadata": {
      "needs_background": "light"
     },
     "output_type": "display_data"
    },
    {
     "data": {
      "image/png": "[encoded data removed]",
      "text/plain": [
       "<Figure size 432x288 with 1 Axes>"
      ]
     },
     "metadata": {
      "needs_background": "light"
     },
     "output_type": "display_data"
    },
    {
     "data": {
      "image/png": "[encoded data removed]",
      "text/plain": [
       "<Figure size 432x288 with 1 Axes>"
      ]
     },
     "metadata": {
      "needs_background": "light"
     },
     "output_type": "display_data"
    },
    {
     "data": {
      "image/png": "[encoded data removed]",
      "text/plain": [
       "<Figure size 432x288 with 1 Axes>"
      ]
     },
     "metadata": {
      "needs_background": "light"
     },
     "output_type": "display_data"
    },
    {
     "data": {
      "image/png": "[encoded data removed]",
      "text/plain": [
       "<Figure size 432x288 with 1 Axes>"
      ]
     },
     "metadata": {
      "needs_background": "light"
     },
     "output_type": "display_data"
    }
   ],
   "source": [
    "for s in stores:\n",
    "    ts_id0 = final_result[final_result['Store']==s]\n",
    "    print(\"Store\",s)\n",
    "    date_time = pd.to_datetime(ts_id0.pop('Date'), format='%Y-%m-%d')\n",
    "    plot_cols = ['Sales']\n",
    "    plot_features = ts_id0[plot_cols]\n",
    "    plot_features.index = date_time\n",
    "    _ = plot_features.plot(subplots=True)"
   ]
  },
  {
   "cell_type": "code",
   "execution_count": 31,
   "id": "7bb224be-4182-4ed8-8cca-a94f42dac7ad",
   "metadata": {},
   "outputs": [
    {
     "data": {
      "image/png": "[encoded data removed]",
      "text/plain": [
       "<Figure size 432x288 with 1 Axes>"
      ]
     },
     "metadata": {
      "needs_background": "light"
     },
     "output_type": "display_data"
    }
   ],
   "source": [
    "ts_id0 = final_result[final_result['Store']==stores[0]]\n",
    "date_time = pd.to_datetime(ts_id0.pop('Date'), format='%Y-%m-%d')\n",
    "plot_cols = ['Sales']\n",
    "plot_features = ts_id0[plot_cols]\n",
    "plot_features.index = date_time\n",
    "_ = plot_features.plot(subplots=True)"
   ]
  },
  {
   "cell_type": "code",
   "execution_count": null,
   "id": "5bf74697-07a5-470b-84c8-a193e6bfba7c",
   "metadata": {},
   "outputs": [],
   "source": []
  }
 ],
 "metadata": {
  "kernelspec": {
   "display_name": "Python 3",
   "language": "python",
   "name": "python3"
  },
  "language_info": {
   "codemirror_mode": {
    "name": "ipython",
    "version": 3
   },
   "file_extension": ".py",
   "mimetype": "text/x-python",
   "name": "python",
   "nbconvert_exporter": "python",
   "pygments_lexer": "ipython3",
   "version": "3.8.8"
  }
 },
 "nbformat": 4,
 "nbformat_minor": 5
}
