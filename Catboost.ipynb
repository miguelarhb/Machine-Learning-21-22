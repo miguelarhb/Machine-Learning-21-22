{
 "cells": [
  {
   "cell_type": "code",
   "execution_count": null,
   "id": "24c84c0c-7df4-4761-881c-82887e7344f4",
   "metadata": {},
   "outputs": [],
   "source": [
    "import catboost as cb\n",
    "import numpy as np\n",
    "import pandas as pd\n",
    "from sklearn.metrics import mean_squared_error\n",
    "from sklearn.model_selection import TimeSeriesSplit\n",
    "import optuna\n",
    "import warnings\n",
    "from warnings import simplefilter\n",
    "import shap\n",
    "\n",
    "%reload_ext autoreload\n",
    "%matplotlib inline\n",
    "\n",
    "warnings.filterwarnings(\"ignore\")\n",
    "warnings.simplefilter(\"ignore\", category=RuntimeWarning)"
   ]
  },
  {
   "cell_type": "markdown",
   "id": "09634d9f-7af7-408f-8cbd-c91a7c0ff4a9",
   "metadata": {},
   "source": [
    "### Load Data"
   ]
  },
  {
   "cell_type": "code",
   "execution_count": null,
   "id": "31dbc94a-7a0f-44e6-9c59-e493042ac791",
   "metadata": {},
   "outputs": [],
   "source": [
    "train_data = pd.read_csv(\"train_preprocessed.csv\", dtype={'Store': object, \n",
    "                                                          'ts_promo':object, \n",
    "                                                          'store_promo':object, \n",
    "                                                          'dom_promo':object, \n",
    "                                                          'dow_promo':object})\n",
    "\n",
    "test_data = pd.read_csv(\"test_preprocessed.csv\", dtype={'Store': object,\n",
    "                                                        'ts_promo':object, \n",
    "                                                        'store_promo':object, \n",
    "                                                        'dom_promo':object, \n",
    "                                                        'dow_promo':object})"
   ]
  },
  {
   "cell_type": "markdown",
   "id": "6e5dc927-94b8-43cc-a483-77a2e847b990",
   "metadata": {},
   "source": [
    "### Small Data Preparation"
   ]
  },
  {
   "cell_type": "code",
   "execution_count": null,
   "id": "a8edbc44-80e0-424f-b001-64d62f33a235",
   "metadata": {},
   "outputs": [],
   "source": [
    "obj_features = list(train_data.loc[:, train_data.dtypes == 'object'].columns.values)\n",
    "obj_features_test = list(test_data.loc[:, test_data.dtypes == 'object'].columns.values)\n",
    "\n",
    "for feature in obj_features:\n",
    "    train_data[feature] = pd.Series(train_data[feature], dtype='category')\n",
    "\n",
    "for feature in obj_features_test:\n",
    "    test_data[feature] = pd.Series(test_data[feature], dtype='category')\n",
    "\n",
    "train_data['Week'] = pd.Series(train_data['Week'], dtype='category')  \n",
    "test_data['Week'] = pd.Series(test_data['Week'], dtype='category')\n",
    "\n",
    "train_data = train_data.sort_values(by=['Date'])\n",
    "test_data = test_data.sort_values(by=['Date'])\n",
    "\n",
    "X = train_data.drop(['Sales'], axis=1)\n",
    "y = train_data['Sales']\n",
    "\n",
    "cat_feat = list(X.loc[:, train_data.dtypes == 'category'].columns)\n",
    "print(cat_feat)"
   ]
  },
  {
   "cell_type": "markdown",
   "id": "0cf60ad0-6d22-4aea-a977-81b699ddc44b",
   "metadata": {},
   "source": [
    "## Model - Catboost Optuna Hyperparameters Optimization"
   ]
  },
  {
   "cell_type": "code",
   "execution_count": null,
   "id": "66866009-a779-46ec-80ed-54de05792998",
   "metadata": {},
   "outputs": [],
   "source": [
    "print('Starting model...')\n",
    "\n",
    "def objective(trial):  \n",
    "    \n",
    "    params = {\n",
    "        'n_estimators': trial.suggest_int('n_estimators', 1000, 10000),\n",
    "        'max_depth': trial.suggest_int('max_depth', 2, 16),\n",
    "        'learning_rate': trial.suggest_loguniform('learning_rate', 0.0001, 0.5),\n",
    "        'l2_leaf_reg': trial.suggest_loguniform('l2_leaf_reg', 0.1, 20)\n",
    "    }\n",
    "       \n",
    "    model = cb.CatBoostRegressor(**params, cat_features=cat_feat) \n",
    "           \n",
    "    tss = TimeSeriesSplit(n_splits=5)\n",
    "    for train_index, test_index in tss.split(X):\n",
    "        train_x, test_x = X.iloc[train_index, :], X.iloc[test_index,:]\n",
    "        train_y, test_y = y.iloc[train_index], y.iloc[test_index]\n",
    "        \n",
    "    eval_dataset = [(test_x, test_y)]\n",
    "        \n",
    "    model.fit(train_x,train_y,eval_set=eval_dataset,early_stopping_rounds=100,verbose=False)\n",
    "\n",
    "    preds = model.predict(test_x)\n",
    "\n",
    "    rmse = mean_squared_error(test_y, preds,squared=False)\n",
    "    \n",
    "    return rmse\n",
    "\n",
    "study = optuna.create_study(direction='minimize')\n",
    "\n",
    "study.optimize(objective, n_trials=10)\n",
    "\n",
    "print('Number of finished trials:', len(study.trials))\n",
    "print('Best trial:', study.best_trial.params)"
   ]
  },
  {
   "cell_type": "markdown",
   "id": "78b8c792-84d5-48f3-8ca3-39f302f64b2e",
   "metadata": {},
   "source": [
    "## Submissions"
   ]
  },
  {
   "cell_type": "markdown",
   "id": "b4ca20a3-22b0-4ad5-a91a-c3d87a48f434",
   "metadata": {},
   "source": [
    "#### 1st run -\n"
   ]
  },
  {
   "cell_type": "code",
   "execution_count": null,
   "id": "481c0df6-3c9e-4fe0-8172-d5539979e164",
   "metadata": {},
   "outputs": [],
   "source": [
    "#X_test = test_data.drop(['id'], axis=1)\n",
    "\n",
    "#print('Starting model...')\n",
    "\n",
    "#params =  {}\n",
    "\n",
    "#model = CatBoostRegressor(**params)  \n",
    "\n",
    "#model.fit(X,y,verbose=False)\n",
    "\n",
    "#preds = model.predict(X_test)\n",
    "\n",
    "#test_data['Sales'] = preds\n",
    "#test_data = test_data.sort_values(by=['id'])\n",
    "#test_data[['id','Sales']].to_csv('sub_CB.csv', index=False)\n",
    "#print('Submission Generated.')"
   ]
  },
  {
   "cell_type": "markdown",
   "id": "dc836991-bc6f-4e51-9ce5-eac1e9d41c65",
   "metadata": {},
   "source": [
    "## Model - Catboost"
   ]
  },
  {
   "cell_type": "markdown",
   "id": "c63d58b9-6b80-4948-9552-aed607101142",
   "metadata": {},
   "source": []
  },
  {
   "cell_type": "code",
   "execution_count": null,
   "id": "8d5d8e9f-d5d7-40ac-89c0-990200ae777f",
   "metadata": {},
   "outputs": [],
   "source": [
    "#print('Starting model...')\n",
    "\n",
    "#tss = TimeSeriesSplit(n_splits=5)\n",
    "#for train_index, test_index in tss.split(X):\n",
    "#    train_x, test_x = X.iloc[train_index, :], X.iloc[test_index,:]\n",
    "#    train_y, test_y = y.iloc[train_index], y.iloc[test_index]\n",
    "\n",
    "#    params =  {}\n",
    "\n",
    "#    model = CatBoostRegressor(**params)  \n",
    "#    print('Start fitting...')\n",
    "#    model.fit(train_x,train_y,eval_set=[(test_x,test_y)],early_stopping_rounds=500,verbose=False)\n",
    "#    print('Start predicting...')\n",
    "#    preds = model.predict(test_x)\n",
    "\n",
    "#   rmse = mean_squared_error(test_y, preds,squared=False)\n",
    "\n",
    "#  print(rmse)"
   ]
  },
  {
   "cell_type": "markdown",
   "id": "5957786e-389a-4453-b445-f8793d0e718d",
   "metadata": {},
   "source": [
    "### Plotting & Analysis"
   ]
  },
  {
   "cell_type": "code",
   "execution_count": null,
   "id": "beb55f19-8158-4b2b-a611-3f5a82d28164",
   "metadata": {},
   "outputs": [],
   "source": [
    "optuna.visualization.plot_optimization_history(study)"
   ]
  },
  {
   "cell_type": "code",
   "execution_count": null,
   "id": "445879a4-84d9-4fed-9b08-94425b5232b0",
   "metadata": {},
   "outputs": [],
   "source": [
    "optuna.visualization.plot_param_importances(study)"
   ]
  },
  {
   "cell_type": "code",
   "execution_count": null,
   "id": "728151ab-f3b4-4ed4-ab86-0d65346bb8fe",
   "metadata": {},
   "outputs": [],
   "source": [
    "optuna.visualization.plot_contour(study, params=\n",
    "        ['learning_rate', 'max_depth', 'l2_leaf_reg', 'n_estimators'])\n"
   ]
  },
  {
   "cell_type": "code",
   "execution_count": null,
   "id": "e1b57459-9280-4f96-8451-fabbf98e8631",
   "metadata": {},
   "outputs": [],
   "source": [
    "optuna.visualization.plot_slice(study)"
   ]
  },
  {
   "cell_type": "code",
   "execution_count": null,
   "id": "aa5d95b8-8638-4a04-9ad5-803447d6cc59",
   "metadata": {},
   "outputs": [],
   "source": [
    "optuna.visualization.plot_parallel_coordinate(study)"
   ]
  },
  {
   "cell_type": "code",
   "execution_count": null,
   "id": "cd92d0d8-edab-46f7-9681-d3911085087e",
   "metadata": {},
   "outputs": [],
   "source": [
    "#print('Started Shap Explainer')\n",
    "#explainer = shap.TreeExplainer(ml)\n",
    "#print('Started Shap Values Computation')\n",
    "#shap_values = explainer.shap_values(X_train)\n",
    "#print('Started Plotting') \n",
    "#shap.summary_plot(shap_values, X_train)"
   ]
  }
 ],
 "metadata": {
  "kernelspec": {
   "display_name": "Python 3",
   "language": "python",
   "name": "python3"
  },
  "language_info": {
   "codemirror_mode": {
    "name": "ipython",
    "version": 3
   },
   "file_extension": ".py",
   "mimetype": "text/x-python",
   "name": "python",
   "nbconvert_exporter": "python",
   "pygments_lexer": "ipython3",
   "version": "3.9.7"
  }
 },
 "nbformat": 4,
 "nbformat_minor": 5
}
